{
  "nbformat": 4,
  "nbformat_minor": 0,
  "metadata": {
    "colab": {
      "provenance": []
    },
    "kernelspec": {
      "name": "python3",
      "display_name": "Python 3"
    },
    "language_info": {
      "name": "python"
    }
  },
  "cells": [
    {
      "cell_type": "code",
      "execution_count": 109,
      "metadata": {
        "id": "fgKQze_NvfuZ"
      },
      "outputs": [],
      "source": [
        "import pandas as pd\n",
        "import matplotlib.pyplot as plt\n",
        "import numpy as np\n",
        "import seaborn as sns\n",
        "from pandas.plotting import scatter_matrix\n",
        "pd.set_option('display.max_columns', 999)\n",
        "%matplotlib inline"
      ]
    },
    {
      "cell_type": "code",
      "source": [
        "import requests\n",
        "\n",
        "def download_file(url, save_as):\n",
        "    # Send a GET request to the URL\n",
        "    response = requests.get(url)\n",
        "    \n",
        "    # Open a new file with the specified name\n",
        "    with open(save_as, \"wb\") as f:\n",
        "        # Write the content of the response to the file\n",
        "        f.write(response.content)\n",
        "    print(f\"File saved as {save_as}.\")"
      ],
      "metadata": {
        "id": "lGXHMk-eoAzt"
      },
      "execution_count": 110,
      "outputs": []
    },
    {
      "cell_type": "code",
      "source": [
        "data_url = \"https://raw.githubusercontent.com/Md-Mahbub-Islam/MachineLearningTask1/main/bank-additional-full.csv\"\n",
        "download_file(data_url, \"data.csv\")"
      ],
      "metadata": {
        "colab": {
          "base_uri": "https://localhost:8080/"
        },
        "id": "O6MeKY7AoA4e",
        "outputId": "61454c6f-d1b9-4b8e-f647-65d67228c528"
      },
      "execution_count": 111,
      "outputs": [
        {
          "output_type": "stream",
          "name": "stdout",
          "text": [
            "File saved as data.csv.\n"
          ]
        }
      ]
    },
    {
      "cell_type": "code",
      "source": [
        "bank = pd.read_csv('data.csv', sep = \";\")\n",
        "bank.head()"
      ],
      "metadata": {
        "colab": {
          "base_uri": "https://localhost:8080/",
          "height": 270
        },
        "id": "JcbJ_KyqoKxO",
        "outputId": "f82132d6-8358-423b-c6d1-ab7485c2f576"
      },
      "execution_count": 112,
      "outputs": [
        {
          "output_type": "execute_result",
          "data": {
            "text/plain": [
              "   age        job  marital    education  default housing loan    contact  \\\n",
              "0   56  housemaid  married     basic.4y       no      no   no  telephone   \n",
              "1   57   services  married  high.school  unknown      no   no  telephone   \n",
              "2   37   services  married  high.school       no     yes   no  telephone   \n",
              "3   40     admin.  married     basic.6y       no      no   no  telephone   \n",
              "4   56   services  married  high.school       no      no  yes  telephone   \n",
              "\n",
              "  month day_of_week  duration  campaign  pdays  previous     poutcome  \\\n",
              "0   may         mon       261         1    999         0  nonexistent   \n",
              "1   may         mon       149         1    999         0  nonexistent   \n",
              "2   may         mon       226         1    999         0  nonexistent   \n",
              "3   may         mon       151         1    999         0  nonexistent   \n",
              "4   may         mon       307         1    999         0  nonexistent   \n",
              "\n",
              "   emp.var.rate  cons.price.idx  cons.conf.idx  euribor3m  nr.employed   y  \n",
              "0           1.1          93.994          -36.4      4.857       5191.0  no  \n",
              "1           1.1          93.994          -36.4      4.857       5191.0  no  \n",
              "2           1.1          93.994          -36.4      4.857       5191.0  no  \n",
              "3           1.1          93.994          -36.4      4.857       5191.0  no  \n",
              "4           1.1          93.994          -36.4      4.857       5191.0  no  "
            ],
            "text/html": [
              "\n",
              "  <div id=\"df-c2ae4adc-c21f-4f53-b8fc-d08297bab19a\">\n",
              "    <div class=\"colab-df-container\">\n",
              "      <div>\n",
              "<style scoped>\n",
              "    .dataframe tbody tr th:only-of-type {\n",
              "        vertical-align: middle;\n",
              "    }\n",
              "\n",
              "    .dataframe tbody tr th {\n",
              "        vertical-align: top;\n",
              "    }\n",
              "\n",
              "    .dataframe thead th {\n",
              "        text-align: right;\n",
              "    }\n",
              "</style>\n",
              "<table border=\"1\" class=\"dataframe\">\n",
              "  <thead>\n",
              "    <tr style=\"text-align: right;\">\n",
              "      <th></th>\n",
              "      <th>age</th>\n",
              "      <th>job</th>\n",
              "      <th>marital</th>\n",
              "      <th>education</th>\n",
              "      <th>default</th>\n",
              "      <th>housing</th>\n",
              "      <th>loan</th>\n",
              "      <th>contact</th>\n",
              "      <th>month</th>\n",
              "      <th>day_of_week</th>\n",
              "      <th>duration</th>\n",
              "      <th>campaign</th>\n",
              "      <th>pdays</th>\n",
              "      <th>previous</th>\n",
              "      <th>poutcome</th>\n",
              "      <th>emp.var.rate</th>\n",
              "      <th>cons.price.idx</th>\n",
              "      <th>cons.conf.idx</th>\n",
              "      <th>euribor3m</th>\n",
              "      <th>nr.employed</th>\n",
              "      <th>y</th>\n",
              "    </tr>\n",
              "  </thead>\n",
              "  <tbody>\n",
              "    <tr>\n",
              "      <th>0</th>\n",
              "      <td>56</td>\n",
              "      <td>housemaid</td>\n",
              "      <td>married</td>\n",
              "      <td>basic.4y</td>\n",
              "      <td>no</td>\n",
              "      <td>no</td>\n",
              "      <td>no</td>\n",
              "      <td>telephone</td>\n",
              "      <td>may</td>\n",
              "      <td>mon</td>\n",
              "      <td>261</td>\n",
              "      <td>1</td>\n",
              "      <td>999</td>\n",
              "      <td>0</td>\n",
              "      <td>nonexistent</td>\n",
              "      <td>1.1</td>\n",
              "      <td>93.994</td>\n",
              "      <td>-36.4</td>\n",
              "      <td>4.857</td>\n",
              "      <td>5191.0</td>\n",
              "      <td>no</td>\n",
              "    </tr>\n",
              "    <tr>\n",
              "      <th>1</th>\n",
              "      <td>57</td>\n",
              "      <td>services</td>\n",
              "      <td>married</td>\n",
              "      <td>high.school</td>\n",
              "      <td>unknown</td>\n",
              "      <td>no</td>\n",
              "      <td>no</td>\n",
              "      <td>telephone</td>\n",
              "      <td>may</td>\n",
              "      <td>mon</td>\n",
              "      <td>149</td>\n",
              "      <td>1</td>\n",
              "      <td>999</td>\n",
              "      <td>0</td>\n",
              "      <td>nonexistent</td>\n",
              "      <td>1.1</td>\n",
              "      <td>93.994</td>\n",
              "      <td>-36.4</td>\n",
              "      <td>4.857</td>\n",
              "      <td>5191.0</td>\n",
              "      <td>no</td>\n",
              "    </tr>\n",
              "    <tr>\n",
              "      <th>2</th>\n",
              "      <td>37</td>\n",
              "      <td>services</td>\n",
              "      <td>married</td>\n",
              "      <td>high.school</td>\n",
              "      <td>no</td>\n",
              "      <td>yes</td>\n",
              "      <td>no</td>\n",
              "      <td>telephone</td>\n",
              "      <td>may</td>\n",
              "      <td>mon</td>\n",
              "      <td>226</td>\n",
              "      <td>1</td>\n",
              "      <td>999</td>\n",
              "      <td>0</td>\n",
              "      <td>nonexistent</td>\n",
              "      <td>1.1</td>\n",
              "      <td>93.994</td>\n",
              "      <td>-36.4</td>\n",
              "      <td>4.857</td>\n",
              "      <td>5191.0</td>\n",
              "      <td>no</td>\n",
              "    </tr>\n",
              "    <tr>\n",
              "      <th>3</th>\n",
              "      <td>40</td>\n",
              "      <td>admin.</td>\n",
              "      <td>married</td>\n",
              "      <td>basic.6y</td>\n",
              "      <td>no</td>\n",
              "      <td>no</td>\n",
              "      <td>no</td>\n",
              "      <td>telephone</td>\n",
              "      <td>may</td>\n",
              "      <td>mon</td>\n",
              "      <td>151</td>\n",
              "      <td>1</td>\n",
              "      <td>999</td>\n",
              "      <td>0</td>\n",
              "      <td>nonexistent</td>\n",
              "      <td>1.1</td>\n",
              "      <td>93.994</td>\n",
              "      <td>-36.4</td>\n",
              "      <td>4.857</td>\n",
              "      <td>5191.0</td>\n",
              "      <td>no</td>\n",
              "    </tr>\n",
              "    <tr>\n",
              "      <th>4</th>\n",
              "      <td>56</td>\n",
              "      <td>services</td>\n",
              "      <td>married</td>\n",
              "      <td>high.school</td>\n",
              "      <td>no</td>\n",
              "      <td>no</td>\n",
              "      <td>yes</td>\n",
              "      <td>telephone</td>\n",
              "      <td>may</td>\n",
              "      <td>mon</td>\n",
              "      <td>307</td>\n",
              "      <td>1</td>\n",
              "      <td>999</td>\n",
              "      <td>0</td>\n",
              "      <td>nonexistent</td>\n",
              "      <td>1.1</td>\n",
              "      <td>93.994</td>\n",
              "      <td>-36.4</td>\n",
              "      <td>4.857</td>\n",
              "      <td>5191.0</td>\n",
              "      <td>no</td>\n",
              "    </tr>\n",
              "  </tbody>\n",
              "</table>\n",
              "</div>\n",
              "      <button class=\"colab-df-convert\" onclick=\"convertToInteractive('df-c2ae4adc-c21f-4f53-b8fc-d08297bab19a')\"\n",
              "              title=\"Convert this dataframe to an interactive table.\"\n",
              "              style=\"display:none;\">\n",
              "        \n",
              "  <svg xmlns=\"http://www.w3.org/2000/svg\" height=\"24px\"viewBox=\"0 0 24 24\"\n",
              "       width=\"24px\">\n",
              "    <path d=\"M0 0h24v24H0V0z\" fill=\"none\"/>\n",
              "    <path d=\"M18.56 5.44l.94 2.06.94-2.06 2.06-.94-2.06-.94-.94-2.06-.94 2.06-2.06.94zm-11 1L8.5 8.5l.94-2.06 2.06-.94-2.06-.94L8.5 2.5l-.94 2.06-2.06.94zm10 10l.94 2.06.94-2.06 2.06-.94-2.06-.94-.94-2.06-.94 2.06-2.06.94z\"/><path d=\"M17.41 7.96l-1.37-1.37c-.4-.4-.92-.59-1.43-.59-.52 0-1.04.2-1.43.59L10.3 9.45l-7.72 7.72c-.78.78-.78 2.05 0 2.83L4 21.41c.39.39.9.59 1.41.59.51 0 1.02-.2 1.41-.59l7.78-7.78 2.81-2.81c.8-.78.8-2.07 0-2.86zM5.41 20L4 18.59l7.72-7.72 1.47 1.35L5.41 20z\"/>\n",
              "  </svg>\n",
              "      </button>\n",
              "      \n",
              "  <style>\n",
              "    .colab-df-container {\n",
              "      display:flex;\n",
              "      flex-wrap:wrap;\n",
              "      gap: 12px;\n",
              "    }\n",
              "\n",
              "    .colab-df-convert {\n",
              "      background-color: #E8F0FE;\n",
              "      border: none;\n",
              "      border-radius: 50%;\n",
              "      cursor: pointer;\n",
              "      display: none;\n",
              "      fill: #1967D2;\n",
              "      height: 32px;\n",
              "      padding: 0 0 0 0;\n",
              "      width: 32px;\n",
              "    }\n",
              "\n",
              "    .colab-df-convert:hover {\n",
              "      background-color: #E2EBFA;\n",
              "      box-shadow: 0px 1px 2px rgba(60, 64, 67, 0.3), 0px 1px 3px 1px rgba(60, 64, 67, 0.15);\n",
              "      fill: #174EA6;\n",
              "    }\n",
              "\n",
              "    [theme=dark] .colab-df-convert {\n",
              "      background-color: #3B4455;\n",
              "      fill: #D2E3FC;\n",
              "    }\n",
              "\n",
              "    [theme=dark] .colab-df-convert:hover {\n",
              "      background-color: #434B5C;\n",
              "      box-shadow: 0px 1px 3px 1px rgba(0, 0, 0, 0.15);\n",
              "      filter: drop-shadow(0px 1px 2px rgba(0, 0, 0, 0.3));\n",
              "      fill: #FFFFFF;\n",
              "    }\n",
              "  </style>\n",
              "\n",
              "      <script>\n",
              "        const buttonEl =\n",
              "          document.querySelector('#df-c2ae4adc-c21f-4f53-b8fc-d08297bab19a button.colab-df-convert');\n",
              "        buttonEl.style.display =\n",
              "          google.colab.kernel.accessAllowed ? 'block' : 'none';\n",
              "\n",
              "        async function convertToInteractive(key) {\n",
              "          const element = document.querySelector('#df-c2ae4adc-c21f-4f53-b8fc-d08297bab19a');\n",
              "          const dataTable =\n",
              "            await google.colab.kernel.invokeFunction('convertToInteractive',\n",
              "                                                     [key], {});\n",
              "          if (!dataTable) return;\n",
              "\n",
              "          const docLinkHtml = 'Like what you see? Visit the ' +\n",
              "            '<a target=\"_blank\" href=https://colab.research.google.com/notebooks/data_table.ipynb>data table notebook</a>'\n",
              "            + ' to learn more about interactive tables.';\n",
              "          element.innerHTML = '';\n",
              "          dataTable['output_type'] = 'display_data';\n",
              "          await google.colab.output.renderOutput(dataTable, element);\n",
              "          const docLink = document.createElement('div');\n",
              "          docLink.innerHTML = docLinkHtml;\n",
              "          element.appendChild(docLink);\n",
              "        }\n",
              "      </script>\n",
              "    </div>\n",
              "  </div>\n",
              "  "
            ]
          },
          "metadata": {},
          "execution_count": 112
        }
      ]
    },
    {
      "cell_type": "code",
      "source": [
        "bank.columns"
      ],
      "metadata": {
        "colab": {
          "base_uri": "https://localhost:8080/"
        },
        "id": "r1bwj4DRoTNt",
        "outputId": "08e8d2d2-0b2d-460c-f24c-3ad720da49b7"
      },
      "execution_count": 113,
      "outputs": [
        {
          "output_type": "execute_result",
          "data": {
            "text/plain": [
              "Index(['age', 'job', 'marital', 'education', 'default', 'housing', 'loan',\n",
              "       'contact', 'month', 'day_of_week', 'duration', 'campaign', 'pdays',\n",
              "       'previous', 'poutcome', 'emp.var.rate', 'cons.price.idx',\n",
              "       'cons.conf.idx', 'euribor3m', 'nr.employed', 'y'],\n",
              "      dtype='object')"
            ]
          },
          "metadata": {},
          "execution_count": 113
        }
      ]
    },
    {
      "cell_type": "code",
      "source": [
        "bank.shape"
      ],
      "metadata": {
        "colab": {
          "base_uri": "https://localhost:8080/"
        },
        "id": "TB3idjUjoU8u",
        "outputId": "389a90fe-49ce-45b0-af27-aa2719f708ab"
      },
      "execution_count": 114,
      "outputs": [
        {
          "output_type": "execute_result",
          "data": {
            "text/plain": [
              "(41188, 21)"
            ]
          },
          "metadata": {},
          "execution_count": 114
        }
      ]
    },
    {
      "cell_type": "code",
      "source": [
        "bank.dtypes"
      ],
      "metadata": {
        "colab": {
          "base_uri": "https://localhost:8080/"
        },
        "id": "GCIsqqudoaj1",
        "outputId": "eb58b135-0e46-4bb9-c8e3-f20fdb8e3a73"
      },
      "execution_count": 115,
      "outputs": [
        {
          "output_type": "execute_result",
          "data": {
            "text/plain": [
              "age                 int64\n",
              "job                object\n",
              "marital            object\n",
              "education          object\n",
              "default            object\n",
              "housing            object\n",
              "loan               object\n",
              "contact            object\n",
              "month              object\n",
              "day_of_week        object\n",
              "duration            int64\n",
              "campaign            int64\n",
              "pdays               int64\n",
              "previous            int64\n",
              "poutcome           object\n",
              "emp.var.rate      float64\n",
              "cons.price.idx    float64\n",
              "cons.conf.idx     float64\n",
              "euribor3m         float64\n",
              "nr.employed       float64\n",
              "y                  object\n",
              "dtype: object"
            ]
          },
          "metadata": {},
          "execution_count": 115
        }
      ]
    },
    {
      "cell_type": "code",
      "source": [
        "bank.describe()"
      ],
      "metadata": {
        "colab": {
          "base_uri": "https://localhost:8080/",
          "height": 364
        },
        "id": "rEoCH6kQogd4",
        "outputId": "c040b1a6-70ef-4d6b-cce6-5e7bae8ef405"
      },
      "execution_count": 116,
      "outputs": [
        {
          "output_type": "execute_result",
          "data": {
            "text/plain": [
              "               age      duration      campaign         pdays      previous  \\\n",
              "count  41188.00000  41188.000000  41188.000000  41188.000000  41188.000000   \n",
              "mean      40.02406    258.285010      2.567593    962.475454      0.172963   \n",
              "std       10.42125    259.279249      2.770014    186.910907      0.494901   \n",
              "min       17.00000      0.000000      1.000000      0.000000      0.000000   \n",
              "25%       32.00000    102.000000      1.000000    999.000000      0.000000   \n",
              "50%       38.00000    180.000000      2.000000    999.000000      0.000000   \n",
              "75%       47.00000    319.000000      3.000000    999.000000      0.000000   \n",
              "max       98.00000   4918.000000     56.000000    999.000000      7.000000   \n",
              "\n",
              "       emp.var.rate  cons.price.idx  cons.conf.idx     euribor3m   nr.employed  \n",
              "count  41188.000000    41188.000000   41188.000000  41188.000000  41188.000000  \n",
              "mean       0.081886       93.575664     -40.502600      3.621291   5167.035911  \n",
              "std        1.570960        0.578840       4.628198      1.734447     72.251528  \n",
              "min       -3.400000       92.201000     -50.800000      0.634000   4963.600000  \n",
              "25%       -1.800000       93.075000     -42.700000      1.344000   5099.100000  \n",
              "50%        1.100000       93.749000     -41.800000      4.857000   5191.000000  \n",
              "75%        1.400000       93.994000     -36.400000      4.961000   5228.100000  \n",
              "max        1.400000       94.767000     -26.900000      5.045000   5228.100000  "
            ],
            "text/html": [
              "\n",
              "  <div id=\"df-bd2bda5a-68e0-40fe-93ae-a2bb424ac1f8\">\n",
              "    <div class=\"colab-df-container\">\n",
              "      <div>\n",
              "<style scoped>\n",
              "    .dataframe tbody tr th:only-of-type {\n",
              "        vertical-align: middle;\n",
              "    }\n",
              "\n",
              "    .dataframe tbody tr th {\n",
              "        vertical-align: top;\n",
              "    }\n",
              "\n",
              "    .dataframe thead th {\n",
              "        text-align: right;\n",
              "    }\n",
              "</style>\n",
              "<table border=\"1\" class=\"dataframe\">\n",
              "  <thead>\n",
              "    <tr style=\"text-align: right;\">\n",
              "      <th></th>\n",
              "      <th>age</th>\n",
              "      <th>duration</th>\n",
              "      <th>campaign</th>\n",
              "      <th>pdays</th>\n",
              "      <th>previous</th>\n",
              "      <th>emp.var.rate</th>\n",
              "      <th>cons.price.idx</th>\n",
              "      <th>cons.conf.idx</th>\n",
              "      <th>euribor3m</th>\n",
              "      <th>nr.employed</th>\n",
              "    </tr>\n",
              "  </thead>\n",
              "  <tbody>\n",
              "    <tr>\n",
              "      <th>count</th>\n",
              "      <td>41188.00000</td>\n",
              "      <td>41188.000000</td>\n",
              "      <td>41188.000000</td>\n",
              "      <td>41188.000000</td>\n",
              "      <td>41188.000000</td>\n",
              "      <td>41188.000000</td>\n",
              "      <td>41188.000000</td>\n",
              "      <td>41188.000000</td>\n",
              "      <td>41188.000000</td>\n",
              "      <td>41188.000000</td>\n",
              "    </tr>\n",
              "    <tr>\n",
              "      <th>mean</th>\n",
              "      <td>40.02406</td>\n",
              "      <td>258.285010</td>\n",
              "      <td>2.567593</td>\n",
              "      <td>962.475454</td>\n",
              "      <td>0.172963</td>\n",
              "      <td>0.081886</td>\n",
              "      <td>93.575664</td>\n",
              "      <td>-40.502600</td>\n",
              "      <td>3.621291</td>\n",
              "      <td>5167.035911</td>\n",
              "    </tr>\n",
              "    <tr>\n",
              "      <th>std</th>\n",
              "      <td>10.42125</td>\n",
              "      <td>259.279249</td>\n",
              "      <td>2.770014</td>\n",
              "      <td>186.910907</td>\n",
              "      <td>0.494901</td>\n",
              "      <td>1.570960</td>\n",
              "      <td>0.578840</td>\n",
              "      <td>4.628198</td>\n",
              "      <td>1.734447</td>\n",
              "      <td>72.251528</td>\n",
              "    </tr>\n",
              "    <tr>\n",
              "      <th>min</th>\n",
              "      <td>17.00000</td>\n",
              "      <td>0.000000</td>\n",
              "      <td>1.000000</td>\n",
              "      <td>0.000000</td>\n",
              "      <td>0.000000</td>\n",
              "      <td>-3.400000</td>\n",
              "      <td>92.201000</td>\n",
              "      <td>-50.800000</td>\n",
              "      <td>0.634000</td>\n",
              "      <td>4963.600000</td>\n",
              "    </tr>\n",
              "    <tr>\n",
              "      <th>25%</th>\n",
              "      <td>32.00000</td>\n",
              "      <td>102.000000</td>\n",
              "      <td>1.000000</td>\n",
              "      <td>999.000000</td>\n",
              "      <td>0.000000</td>\n",
              "      <td>-1.800000</td>\n",
              "      <td>93.075000</td>\n",
              "      <td>-42.700000</td>\n",
              "      <td>1.344000</td>\n",
              "      <td>5099.100000</td>\n",
              "    </tr>\n",
              "    <tr>\n",
              "      <th>50%</th>\n",
              "      <td>38.00000</td>\n",
              "      <td>180.000000</td>\n",
              "      <td>2.000000</td>\n",
              "      <td>999.000000</td>\n",
              "      <td>0.000000</td>\n",
              "      <td>1.100000</td>\n",
              "      <td>93.749000</td>\n",
              "      <td>-41.800000</td>\n",
              "      <td>4.857000</td>\n",
              "      <td>5191.000000</td>\n",
              "    </tr>\n",
              "    <tr>\n",
              "      <th>75%</th>\n",
              "      <td>47.00000</td>\n",
              "      <td>319.000000</td>\n",
              "      <td>3.000000</td>\n",
              "      <td>999.000000</td>\n",
              "      <td>0.000000</td>\n",
              "      <td>1.400000</td>\n",
              "      <td>93.994000</td>\n",
              "      <td>-36.400000</td>\n",
              "      <td>4.961000</td>\n",
              "      <td>5228.100000</td>\n",
              "    </tr>\n",
              "    <tr>\n",
              "      <th>max</th>\n",
              "      <td>98.00000</td>\n",
              "      <td>4918.000000</td>\n",
              "      <td>56.000000</td>\n",
              "      <td>999.000000</td>\n",
              "      <td>7.000000</td>\n",
              "      <td>1.400000</td>\n",
              "      <td>94.767000</td>\n",
              "      <td>-26.900000</td>\n",
              "      <td>5.045000</td>\n",
              "      <td>5228.100000</td>\n",
              "    </tr>\n",
              "  </tbody>\n",
              "</table>\n",
              "</div>\n",
              "      <button class=\"colab-df-convert\" onclick=\"convertToInteractive('df-bd2bda5a-68e0-40fe-93ae-a2bb424ac1f8')\"\n",
              "              title=\"Convert this dataframe to an interactive table.\"\n",
              "              style=\"display:none;\">\n",
              "        \n",
              "  <svg xmlns=\"http://www.w3.org/2000/svg\" height=\"24px\"viewBox=\"0 0 24 24\"\n",
              "       width=\"24px\">\n",
              "    <path d=\"M0 0h24v24H0V0z\" fill=\"none\"/>\n",
              "    <path d=\"M18.56 5.44l.94 2.06.94-2.06 2.06-.94-2.06-.94-.94-2.06-.94 2.06-2.06.94zm-11 1L8.5 8.5l.94-2.06 2.06-.94-2.06-.94L8.5 2.5l-.94 2.06-2.06.94zm10 10l.94 2.06.94-2.06 2.06-.94-2.06-.94-.94-2.06-.94 2.06-2.06.94z\"/><path d=\"M17.41 7.96l-1.37-1.37c-.4-.4-.92-.59-1.43-.59-.52 0-1.04.2-1.43.59L10.3 9.45l-7.72 7.72c-.78.78-.78 2.05 0 2.83L4 21.41c.39.39.9.59 1.41.59.51 0 1.02-.2 1.41-.59l7.78-7.78 2.81-2.81c.8-.78.8-2.07 0-2.86zM5.41 20L4 18.59l7.72-7.72 1.47 1.35L5.41 20z\"/>\n",
              "  </svg>\n",
              "      </button>\n",
              "      \n",
              "  <style>\n",
              "    .colab-df-container {\n",
              "      display:flex;\n",
              "      flex-wrap:wrap;\n",
              "      gap: 12px;\n",
              "    }\n",
              "\n",
              "    .colab-df-convert {\n",
              "      background-color: #E8F0FE;\n",
              "      border: none;\n",
              "      border-radius: 50%;\n",
              "      cursor: pointer;\n",
              "      display: none;\n",
              "      fill: #1967D2;\n",
              "      height: 32px;\n",
              "      padding: 0 0 0 0;\n",
              "      width: 32px;\n",
              "    }\n",
              "\n",
              "    .colab-df-convert:hover {\n",
              "      background-color: #E2EBFA;\n",
              "      box-shadow: 0px 1px 2px rgba(60, 64, 67, 0.3), 0px 1px 3px 1px rgba(60, 64, 67, 0.15);\n",
              "      fill: #174EA6;\n",
              "    }\n",
              "\n",
              "    [theme=dark] .colab-df-convert {\n",
              "      background-color: #3B4455;\n",
              "      fill: #D2E3FC;\n",
              "    }\n",
              "\n",
              "    [theme=dark] .colab-df-convert:hover {\n",
              "      background-color: #434B5C;\n",
              "      box-shadow: 0px 1px 3px 1px rgba(0, 0, 0, 0.15);\n",
              "      filter: drop-shadow(0px 1px 2px rgba(0, 0, 0, 0.3));\n",
              "      fill: #FFFFFF;\n",
              "    }\n",
              "  </style>\n",
              "\n",
              "      <script>\n",
              "        const buttonEl =\n",
              "          document.querySelector('#df-bd2bda5a-68e0-40fe-93ae-a2bb424ac1f8 button.colab-df-convert');\n",
              "        buttonEl.style.display =\n",
              "          google.colab.kernel.accessAllowed ? 'block' : 'none';\n",
              "\n",
              "        async function convertToInteractive(key) {\n",
              "          const element = document.querySelector('#df-bd2bda5a-68e0-40fe-93ae-a2bb424ac1f8');\n",
              "          const dataTable =\n",
              "            await google.colab.kernel.invokeFunction('convertToInteractive',\n",
              "                                                     [key], {});\n",
              "          if (!dataTable) return;\n",
              "\n",
              "          const docLinkHtml = 'Like what you see? Visit the ' +\n",
              "            '<a target=\"_blank\" href=https://colab.research.google.com/notebooks/data_table.ipynb>data table notebook</a>'\n",
              "            + ' to learn more about interactive tables.';\n",
              "          element.innerHTML = '';\n",
              "          dataTable['output_type'] = 'display_data';\n",
              "          await google.colab.output.renderOutput(dataTable, element);\n",
              "          const docLink = document.createElement('div');\n",
              "          docLink.innerHTML = docLinkHtml;\n",
              "          element.appendChild(docLink);\n",
              "        }\n",
              "      </script>\n",
              "    </div>\n",
              "  </div>\n",
              "  "
            ]
          },
          "metadata": {},
          "execution_count": 116
        }
      ]
    },
    {
      "cell_type": "code",
      "source": [
        "bank.corr()"
      ],
      "metadata": {
        "colab": {
          "base_uri": "https://localhost:8080/",
          "height": 363
        },
        "id": "uzWFV6t1opY1",
        "outputId": "c6858ab4-6929-4677-fd87-7687da572e54"
      },
      "execution_count": 117,
      "outputs": [
        {
          "output_type": "execute_result",
          "data": {
            "text/plain": [
              "                     age  duration  campaign     pdays  previous  \\\n",
              "age             1.000000 -0.000866  0.004594 -0.034369  0.024365   \n",
              "duration       -0.000866  1.000000 -0.071699 -0.047577  0.020640   \n",
              "campaign        0.004594 -0.071699  1.000000  0.052584 -0.079141   \n",
              "pdays          -0.034369 -0.047577  0.052584  1.000000 -0.587514   \n",
              "previous        0.024365  0.020640 -0.079141 -0.587514  1.000000   \n",
              "emp.var.rate   -0.000371 -0.027968  0.150754  0.271004 -0.420489   \n",
              "cons.price.idx  0.000857  0.005312  0.127836  0.078889 -0.203130   \n",
              "cons.conf.idx   0.129372 -0.008173 -0.013733 -0.091342 -0.050936   \n",
              "euribor3m       0.010767 -0.032897  0.135133  0.296899 -0.454494   \n",
              "nr.employed    -0.017725 -0.044703  0.144095  0.372605 -0.501333   \n",
              "\n",
              "                emp.var.rate  cons.price.idx  cons.conf.idx  euribor3m  \\\n",
              "age                -0.000371        0.000857       0.129372   0.010767   \n",
              "duration           -0.027968        0.005312      -0.008173  -0.032897   \n",
              "campaign            0.150754        0.127836      -0.013733   0.135133   \n",
              "pdays               0.271004        0.078889      -0.091342   0.296899   \n",
              "previous           -0.420489       -0.203130      -0.050936  -0.454494   \n",
              "emp.var.rate        1.000000        0.775334       0.196041   0.972245   \n",
              "cons.price.idx      0.775334        1.000000       0.058986   0.688230   \n",
              "cons.conf.idx       0.196041        0.058986       1.000000   0.277686   \n",
              "euribor3m           0.972245        0.688230       0.277686   1.000000   \n",
              "nr.employed         0.906970        0.522034       0.100513   0.945154   \n",
              "\n",
              "                nr.employed  \n",
              "age               -0.017725  \n",
              "duration          -0.044703  \n",
              "campaign           0.144095  \n",
              "pdays              0.372605  \n",
              "previous          -0.501333  \n",
              "emp.var.rate       0.906970  \n",
              "cons.price.idx     0.522034  \n",
              "cons.conf.idx      0.100513  \n",
              "euribor3m          0.945154  \n",
              "nr.employed        1.000000  "
            ],
            "text/html": [
              "\n",
              "  <div id=\"df-b431e567-7f1f-4710-9710-1a1de2fb3809\">\n",
              "    <div class=\"colab-df-container\">\n",
              "      <div>\n",
              "<style scoped>\n",
              "    .dataframe tbody tr th:only-of-type {\n",
              "        vertical-align: middle;\n",
              "    }\n",
              "\n",
              "    .dataframe tbody tr th {\n",
              "        vertical-align: top;\n",
              "    }\n",
              "\n",
              "    .dataframe thead th {\n",
              "        text-align: right;\n",
              "    }\n",
              "</style>\n",
              "<table border=\"1\" class=\"dataframe\">\n",
              "  <thead>\n",
              "    <tr style=\"text-align: right;\">\n",
              "      <th></th>\n",
              "      <th>age</th>\n",
              "      <th>duration</th>\n",
              "      <th>campaign</th>\n",
              "      <th>pdays</th>\n",
              "      <th>previous</th>\n",
              "      <th>emp.var.rate</th>\n",
              "      <th>cons.price.idx</th>\n",
              "      <th>cons.conf.idx</th>\n",
              "      <th>euribor3m</th>\n",
              "      <th>nr.employed</th>\n",
              "    </tr>\n",
              "  </thead>\n",
              "  <tbody>\n",
              "    <tr>\n",
              "      <th>age</th>\n",
              "      <td>1.000000</td>\n",
              "      <td>-0.000866</td>\n",
              "      <td>0.004594</td>\n",
              "      <td>-0.034369</td>\n",
              "      <td>0.024365</td>\n",
              "      <td>-0.000371</td>\n",
              "      <td>0.000857</td>\n",
              "      <td>0.129372</td>\n",
              "      <td>0.010767</td>\n",
              "      <td>-0.017725</td>\n",
              "    </tr>\n",
              "    <tr>\n",
              "      <th>duration</th>\n",
              "      <td>-0.000866</td>\n",
              "      <td>1.000000</td>\n",
              "      <td>-0.071699</td>\n",
              "      <td>-0.047577</td>\n",
              "      <td>0.020640</td>\n",
              "      <td>-0.027968</td>\n",
              "      <td>0.005312</td>\n",
              "      <td>-0.008173</td>\n",
              "      <td>-0.032897</td>\n",
              "      <td>-0.044703</td>\n",
              "    </tr>\n",
              "    <tr>\n",
              "      <th>campaign</th>\n",
              "      <td>0.004594</td>\n",
              "      <td>-0.071699</td>\n",
              "      <td>1.000000</td>\n",
              "      <td>0.052584</td>\n",
              "      <td>-0.079141</td>\n",
              "      <td>0.150754</td>\n",
              "      <td>0.127836</td>\n",
              "      <td>-0.013733</td>\n",
              "      <td>0.135133</td>\n",
              "      <td>0.144095</td>\n",
              "    </tr>\n",
              "    <tr>\n",
              "      <th>pdays</th>\n",
              "      <td>-0.034369</td>\n",
              "      <td>-0.047577</td>\n",
              "      <td>0.052584</td>\n",
              "      <td>1.000000</td>\n",
              "      <td>-0.587514</td>\n",
              "      <td>0.271004</td>\n",
              "      <td>0.078889</td>\n",
              "      <td>-0.091342</td>\n",
              "      <td>0.296899</td>\n",
              "      <td>0.372605</td>\n",
              "    </tr>\n",
              "    <tr>\n",
              "      <th>previous</th>\n",
              "      <td>0.024365</td>\n",
              "      <td>0.020640</td>\n",
              "      <td>-0.079141</td>\n",
              "      <td>-0.587514</td>\n",
              "      <td>1.000000</td>\n",
              "      <td>-0.420489</td>\n",
              "      <td>-0.203130</td>\n",
              "      <td>-0.050936</td>\n",
              "      <td>-0.454494</td>\n",
              "      <td>-0.501333</td>\n",
              "    </tr>\n",
              "    <tr>\n",
              "      <th>emp.var.rate</th>\n",
              "      <td>-0.000371</td>\n",
              "      <td>-0.027968</td>\n",
              "      <td>0.150754</td>\n",
              "      <td>0.271004</td>\n",
              "      <td>-0.420489</td>\n",
              "      <td>1.000000</td>\n",
              "      <td>0.775334</td>\n",
              "      <td>0.196041</td>\n",
              "      <td>0.972245</td>\n",
              "      <td>0.906970</td>\n",
              "    </tr>\n",
              "    <tr>\n",
              "      <th>cons.price.idx</th>\n",
              "      <td>0.000857</td>\n",
              "      <td>0.005312</td>\n",
              "      <td>0.127836</td>\n",
              "      <td>0.078889</td>\n",
              "      <td>-0.203130</td>\n",
              "      <td>0.775334</td>\n",
              "      <td>1.000000</td>\n",
              "      <td>0.058986</td>\n",
              "      <td>0.688230</td>\n",
              "      <td>0.522034</td>\n",
              "    </tr>\n",
              "    <tr>\n",
              "      <th>cons.conf.idx</th>\n",
              "      <td>0.129372</td>\n",
              "      <td>-0.008173</td>\n",
              "      <td>-0.013733</td>\n",
              "      <td>-0.091342</td>\n",
              "      <td>-0.050936</td>\n",
              "      <td>0.196041</td>\n",
              "      <td>0.058986</td>\n",
              "      <td>1.000000</td>\n",
              "      <td>0.277686</td>\n",
              "      <td>0.100513</td>\n",
              "    </tr>\n",
              "    <tr>\n",
              "      <th>euribor3m</th>\n",
              "      <td>0.010767</td>\n",
              "      <td>-0.032897</td>\n",
              "      <td>0.135133</td>\n",
              "      <td>0.296899</td>\n",
              "      <td>-0.454494</td>\n",
              "      <td>0.972245</td>\n",
              "      <td>0.688230</td>\n",
              "      <td>0.277686</td>\n",
              "      <td>1.000000</td>\n",
              "      <td>0.945154</td>\n",
              "    </tr>\n",
              "    <tr>\n",
              "      <th>nr.employed</th>\n",
              "      <td>-0.017725</td>\n",
              "      <td>-0.044703</td>\n",
              "      <td>0.144095</td>\n",
              "      <td>0.372605</td>\n",
              "      <td>-0.501333</td>\n",
              "      <td>0.906970</td>\n",
              "      <td>0.522034</td>\n",
              "      <td>0.100513</td>\n",
              "      <td>0.945154</td>\n",
              "      <td>1.000000</td>\n",
              "    </tr>\n",
              "  </tbody>\n",
              "</table>\n",
              "</div>\n",
              "      <button class=\"colab-df-convert\" onclick=\"convertToInteractive('df-b431e567-7f1f-4710-9710-1a1de2fb3809')\"\n",
              "              title=\"Convert this dataframe to an interactive table.\"\n",
              "              style=\"display:none;\">\n",
              "        \n",
              "  <svg xmlns=\"http://www.w3.org/2000/svg\" height=\"24px\"viewBox=\"0 0 24 24\"\n",
              "       width=\"24px\">\n",
              "    <path d=\"M0 0h24v24H0V0z\" fill=\"none\"/>\n",
              "    <path d=\"M18.56 5.44l.94 2.06.94-2.06 2.06-.94-2.06-.94-.94-2.06-.94 2.06-2.06.94zm-11 1L8.5 8.5l.94-2.06 2.06-.94-2.06-.94L8.5 2.5l-.94 2.06-2.06.94zm10 10l.94 2.06.94-2.06 2.06-.94-2.06-.94-.94-2.06-.94 2.06-2.06.94z\"/><path d=\"M17.41 7.96l-1.37-1.37c-.4-.4-.92-.59-1.43-.59-.52 0-1.04.2-1.43.59L10.3 9.45l-7.72 7.72c-.78.78-.78 2.05 0 2.83L4 21.41c.39.39.9.59 1.41.59.51 0 1.02-.2 1.41-.59l7.78-7.78 2.81-2.81c.8-.78.8-2.07 0-2.86zM5.41 20L4 18.59l7.72-7.72 1.47 1.35L5.41 20z\"/>\n",
              "  </svg>\n",
              "      </button>\n",
              "      \n",
              "  <style>\n",
              "    .colab-df-container {\n",
              "      display:flex;\n",
              "      flex-wrap:wrap;\n",
              "      gap: 12px;\n",
              "    }\n",
              "\n",
              "    .colab-df-convert {\n",
              "      background-color: #E8F0FE;\n",
              "      border: none;\n",
              "      border-radius: 50%;\n",
              "      cursor: pointer;\n",
              "      display: none;\n",
              "      fill: #1967D2;\n",
              "      height: 32px;\n",
              "      padding: 0 0 0 0;\n",
              "      width: 32px;\n",
              "    }\n",
              "\n",
              "    .colab-df-convert:hover {\n",
              "      background-color: #E2EBFA;\n",
              "      box-shadow: 0px 1px 2px rgba(60, 64, 67, 0.3), 0px 1px 3px 1px rgba(60, 64, 67, 0.15);\n",
              "      fill: #174EA6;\n",
              "    }\n",
              "\n",
              "    [theme=dark] .colab-df-convert {\n",
              "      background-color: #3B4455;\n",
              "      fill: #D2E3FC;\n",
              "    }\n",
              "\n",
              "    [theme=dark] .colab-df-convert:hover {\n",
              "      background-color: #434B5C;\n",
              "      box-shadow: 0px 1px 3px 1px rgba(0, 0, 0, 0.15);\n",
              "      filter: drop-shadow(0px 1px 2px rgba(0, 0, 0, 0.3));\n",
              "      fill: #FFFFFF;\n",
              "    }\n",
              "  </style>\n",
              "\n",
              "      <script>\n",
              "        const buttonEl =\n",
              "          document.querySelector('#df-b431e567-7f1f-4710-9710-1a1de2fb3809 button.colab-df-convert');\n",
              "        buttonEl.style.display =\n",
              "          google.colab.kernel.accessAllowed ? 'block' : 'none';\n",
              "\n",
              "        async function convertToInteractive(key) {\n",
              "          const element = document.querySelector('#df-b431e567-7f1f-4710-9710-1a1de2fb3809');\n",
              "          const dataTable =\n",
              "            await google.colab.kernel.invokeFunction('convertToInteractive',\n",
              "                                                     [key], {});\n",
              "          if (!dataTable) return;\n",
              "\n",
              "          const docLinkHtml = 'Like what you see? Visit the ' +\n",
              "            '<a target=\"_blank\" href=https://colab.research.google.com/notebooks/data_table.ipynb>data table notebook</a>'\n",
              "            + ' to learn more about interactive tables.';\n",
              "          element.innerHTML = '';\n",
              "          dataTable['output_type'] = 'display_data';\n",
              "          await google.colab.output.renderOutput(dataTable, element);\n",
              "          const docLink = document.createElement('div');\n",
              "          docLink.innerHTML = docLinkHtml;\n",
              "          element.appendChild(docLink);\n",
              "        }\n",
              "      </script>\n",
              "    </div>\n",
              "  </div>\n",
              "  "
            ]
          },
          "metadata": {},
          "execution_count": 117
        }
      ]
    },
    {
      "cell_type": "code",
      "source": [
        "#filter out the numerical variables and categorical variables\n",
        "num_colmuns = []\n",
        "cat_columns = []\n",
        "for name, type in dict(bank.dtypes).items():\n",
        "        if type =='int64' or type == 'float64':\n",
        "            num_colmuns.append(name)\n",
        "        else:\n",
        "            cat_columns.append(name)       "
      ],
      "metadata": {
        "id": "ESc2pztbxR8W"
      },
      "execution_count": 118,
      "outputs": []
    },
    {
      "cell_type": "code",
      "source": [
        "#fig.add_subplot(nrows, ncols, plot_number)\n",
        "fig = plt.figure(figsize=(10,8))\n",
        "ax = fig.add_subplot(1,1,1)\n",
        "cax = ax.matshow(bank.corr(), vmin=-1, vmax=1)\n",
        "fig.colorbar(cax)\n",
        "ticks = np.arange(0,10,1)\n",
        "ax.set_xticks(ticks)\n",
        "ax.set_yticks(ticks)\n",
        "ax.set_xticklabels(num_colmuns, rotation = 45)\n",
        "ax.set_yticklabels(num_colmuns)"
      ],
      "metadata": {
        "colab": {
          "base_uri": "https://localhost:8080/",
          "height": 717
        },
        "id": "pVtBBw2_xVwE",
        "outputId": "5646fbae-1735-4e55-9149-cf86a70766e6"
      },
      "execution_count": 119,
      "outputs": [
        {
          "output_type": "execute_result",
          "data": {
            "text/plain": [
              "[Text(0, 0, 'age'),\n",
              " Text(0, 0, 'duration'),\n",
              " Text(0, 0, 'campaign'),\n",
              " Text(0, 0, 'pdays'),\n",
              " Text(0, 0, 'previous'),\n",
              " Text(0, 0, 'emp.var.rate'),\n",
              " Text(0, 0, 'cons.price.idx'),\n",
              " Text(0, 0, 'cons.conf.idx'),\n",
              " Text(0, 0, 'euribor3m'),\n",
              " Text(0, 0, 'nr.employed')]"
            ]
          },
          "metadata": {},
          "execution_count": 119
        },
        {
          "output_type": "display_data",
          "data": {
            "text/plain": [
              "<Figure size 720x576 with 2 Axes>"
            ],
            "image/png": "[encoded data removed]"
          },
          "metadata": {
            "needs_background": "light"
          }
        }
      ]
    },
    {
      "cell_type": "code",
      "source": [
        "num_colmuns"
      ],
      "metadata": {
        "colab": {
          "base_uri": "https://localhost:8080/"
        },
        "id": "SqhY2F5Vxc-k",
        "outputId": "e341eeea-b2e0-421e-83a8-9dfd96a51cea"
      },
      "execution_count": 120,
      "outputs": [
        {
          "output_type": "execute_result",
          "data": {
            "text/plain": [
              "['age',\n",
              " 'duration',\n",
              " 'campaign',\n",
              " 'pdays',\n",
              " 'previous',\n",
              " 'emp.var.rate',\n",
              " 'cons.price.idx',\n",
              " 'cons.conf.idx',\n",
              " 'euribor3m',\n",
              " 'nr.employed']"
            ]
          },
          "metadata": {},
          "execution_count": 120
        }
      ]
    },
    {
      "cell_type": "code",
      "source": [
        "fig = plt.figure(figsize=(18,18))\n",
        "for r in range(0,10):\n",
        "    ax = fig.add_subplot(5,2,r+1)\n",
        "    ax = bank[num_colmuns[r]].hist(color=\"green\")\n",
        "    ax.set_xlabel(num_colmuns[r])"
      ],
      "metadata": {
        "colab": {
          "base_uri": "https://localhost:8080/",
          "height": 1000
        },
        "id": "yGHdo_l_xwA4",
        "outputId": "946dbd5f-5ef8-44e2-f729-d63d12e7a5f2"
      },
      "execution_count": 121,
      "outputs": [
        {
          "output_type": "display_data",
          "data": {
            "text/plain": [
              "<Figure size 1296x1296 with 10 Axes>"
            ],
            "image/png": "[encoded data removed]"
          },
          "metadata": {
            "needs_background": "light"
          }
        }
      ]
    },
    {
      "cell_type": "code",
      "source": [
        "cat_columns[0:10]"
      ],
      "metadata": {
        "colab": {
          "base_uri": "https://localhost:8080/"
        },
        "id": "g_Lng2u_yW3X",
        "outputId": "bb689647-e6fe-4977-a1fc-fb6fa0146169"
      },
      "execution_count": 122,
      "outputs": [
        {
          "output_type": "execute_result",
          "data": {
            "text/plain": [
              "['job',\n",
              " 'marital',\n",
              " 'education',\n",
              " 'default',\n",
              " 'housing',\n",
              " 'loan',\n",
              " 'contact',\n",
              " 'month',\n",
              " 'day_of_week',\n",
              " 'poutcome']"
            ]
          },
          "metadata": {},
          "execution_count": 122
        }
      ]
    },
    {
      "cell_type": "code",
      "source": [
        "fig = plt.figure(figsize=(25,46))\n",
        "for r in range(0,10):\n",
        "    ax = fig.add_subplot(5,2,r+1)\n",
        "    ax = bank[cat_columns[r]].value_counts().plot(kind = 'bar', rot=35, fontsize = 13, color=\"green\")\n",
        "    ax.set_xlabel(cat_columns[r],fontsize = 20)\n",
        "    ax.xaxis.set_label_coords(1.05, -0.025)\n",
        "    ax.set_ylabel('counts')"
      ],
      "metadata": {
        "colab": {
          "base_uri": "https://localhost:8080/",
          "height": 1000
        },
        "id": "SoZ0zKNryw22",
        "outputId": "a4f38036-5358-4f2c-c679-11ebb2d2f53c"
      },
      "execution_count": 123,
      "outputs": [
        {
          "output_type": "display_data",
          "data": {
            "text/plain": [
              "<Figure size 1800x3312 with 10 Axes>"
            ],
            "image/png": "[encoded data removed]"
          },
          "metadata": {
            "needs_background": "light"
          }
        }
      ]
    },
    {
      "cell_type": "code",
      "source": [
        "# Set figure size with matplotlib\n",
        "fig, axs = plt.subplots(1,2,figsize=(14,7))\n",
        "#create the frequency graph of Target variable deposit\n",
        "sns.countplot(x='y',data=bank, ax=axs[0], palette=\"Dark2\")\n",
        "axs[0].set_title(\"Frequency of each Term Deposit Status\")\n",
        "#create the pie graph of Target variable deposit in term of percentage\n",
        "bank.y.value_counts().plot(x=None,y=None, kind='pie', ax=axs[1],autopct='%1.3f%%', colors=[\"red\", \"blue\"])\n",
        "axs[1].set_title(\"Percentage of each Term Deposit Status\")"
      ],
      "metadata": {
        "colab": {
          "base_uri": "https://localhost:8080/",
          "height": 476
        },
        "id": "uY1bzjmwzB0N",
        "outputId": "83f8372c-fab1-4373-8549-97cdc0d12fc7"
      },
      "execution_count": 124,
      "outputs": [
        {
          "output_type": "execute_result",
          "data": {
            "text/plain": [
              "Text(0.5, 1.0, 'Percentage of each Term Deposit Status')"
            ]
          },
          "metadata": {},
          "execution_count": 124
        },
        {
          "output_type": "display_data",
          "data": {
            "text/plain": [
              "<Figure size 1008x504 with 2 Axes>"
            ],
            "image/png": "[encoded data removed]"
          },
          "metadata": {
            "needs_background": "light"
          }
        }
      ]
    },
    {
      "cell_type": "code",
      "source": [
        "null_counts = bank.isnull().sum()\n",
        "print(\"Number of null values in each column:\\n{}\".format(null_counts))"
      ],
      "metadata": {
        "colab": {
          "base_uri": "https://localhost:8080/"
        },
        "id": "lvIpZR_Zz1XC",
        "outputId": "5c5bfbbe-413f-477f-cfc1-1c5ca9c8c712"
      },
      "execution_count": 125,
      "outputs": [
        {
          "output_type": "stream",
          "name": "stdout",
          "text": [
            "Number of null values in each column:\n",
            "age               0\n",
            "job               0\n",
            "marital           0\n",
            "education         0\n",
            "default           0\n",
            "housing           0\n",
            "loan              0\n",
            "contact           0\n",
            "month             0\n",
            "day_of_week       0\n",
            "duration          0\n",
            "campaign          0\n",
            "pdays             0\n",
            "previous          0\n",
            "poutcome          0\n",
            "emp.var.rate      0\n",
            "cons.price.idx    0\n",
            "cons.conf.idx     0\n",
            "euribor3m         0\n",
            "nr.employed       0\n",
            "y                 0\n",
            "dtype: int64\n"
          ]
        }
      ]
    },
    {
      "cell_type": "code",
      "source": [
        "print(\"Data types and their frequency\\n{}\".format(bank.dtypes.value_counts()))"
      ],
      "metadata": {
        "colab": {
          "base_uri": "https://localhost:8080/"
        },
        "id": "rQFO4VI7z-Vj",
        "outputId": "bbdfed7b-0fcf-4c30-8286-4c24ce177065"
      },
      "execution_count": 126,
      "outputs": [
        {
          "output_type": "stream",
          "name": "stdout",
          "text": [
            "Data types and their frequency\n",
            "object     11\n",
            "int64       5\n",
            "float64     5\n",
            "dtype: int64\n"
          ]
        }
      ]
    },
    {
      "cell_type": "code",
      "source": [
        "object_columns_df = bank.select_dtypes(include=['object'])\n",
        "print(object_columns_df.iloc[0])"
      ],
      "metadata": {
        "colab": {
          "base_uri": "https://localhost:8080/"
        },
        "id": "N_sSZJT2z_mg",
        "outputId": "75714a5e-0acb-46b8-a570-732da8653828"
      },
      "execution_count": 127,
      "outputs": [
        {
          "output_type": "stream",
          "name": "stdout",
          "text": [
            "job              housemaid\n",
            "marital            married\n",
            "education         basic.4y\n",
            "default                 no\n",
            "housing                 no\n",
            "loan                    no\n",
            "contact          telephone\n",
            "month                  may\n",
            "day_of_week            mon\n",
            "poutcome       nonexistent\n",
            "y                       no\n",
            "Name: 0, dtype: object\n"
          ]
        }
      ]
    },
    {
      "cell_type": "code",
      "source": [
        "#we need to drop columns month and day_of_week\n",
        "bank_prepared = bank.drop(['month', 'day_of_week'], axis = 1)"
      ],
      "metadata": {
        "id": "fjzQd1050EA_"
      },
      "execution_count": 128,
      "outputs": []
    },
    {
      "cell_type": "code",
      "source": [
        "#y is Target Variable\n",
        "cols = ['job', 'marital', 'education', 'default', 'housing','loan', 'contact', 'poutcome']\n",
        "for name in cols:\n",
        "    print(name,':')\n",
        "    print(bank_prepared[name].value_counts(),'\\n')"
      ],
      "metadata": {
        "colab": {
          "base_uri": "https://localhost:8080/"
        },
        "id": "IbmsVjWg0IMs",
        "outputId": "0fbb7f3d-45d9-4dd7-9c8a-8c8a27086d8a"
      },
      "execution_count": 129,
      "outputs": [
        {
          "output_type": "stream",
          "name": "stdout",
          "text": [
            "job :\n",
            "admin.           10422\n",
            "blue-collar       9254\n",
            "technician        6743\n",
            "services          3969\n",
            "management        2924\n",
            "retired           1720\n",
            "entrepreneur      1456\n",
            "self-employed     1421\n",
            "housemaid         1060\n",
            "unemployed        1014\n",
            "student            875\n",
            "unknown            330\n",
            "Name: job, dtype: int64 \n",
            "\n",
            "marital :\n",
            "married     24928\n",
            "single      11568\n",
            "divorced     4612\n",
            "unknown        80\n",
            "Name: marital, dtype: int64 \n",
            "\n",
            "education :\n",
            "university.degree      12168\n",
            "high.school             9515\n",
            "basic.9y                6045\n",
            "professional.course     5243\n",
            "basic.4y                4176\n",
            "basic.6y                2292\n",
            "unknown                 1731\n",
            "illiterate                18\n",
            "Name: education, dtype: int64 \n",
            "\n",
            "default :\n",
            "no         32588\n",
            "unknown     8597\n",
            "yes            3\n",
            "Name: default, dtype: int64 \n",
            "\n",
            "housing :\n",
            "yes        21576\n",
            "no         18622\n",
            "unknown      990\n",
            "Name: housing, dtype: int64 \n",
            "\n",
            "loan :\n",
            "no         33950\n",
            "yes         6248\n",
            "unknown      990\n",
            "Name: loan, dtype: int64 \n",
            "\n",
            "contact :\n",
            "cellular     26144\n",
            "telephone    15044\n",
            "Name: contact, dtype: int64 \n",
            "\n",
            "poutcome :\n",
            "nonexistent    35563\n",
            "failure         4252\n",
            "success         1373\n",
            "Name: poutcome, dtype: int64 \n",
            "\n"
          ]
        }
      ]
    },
    {
      "cell_type": "code",
      "source": [
        "# We need to change everything to numbers so we can do machine learning on the data\n",
        "#Nomial\n",
        "Nominal = ['job','marital', 'default', 'housing', 'loan', 'contact', 'poutcome']\n",
        "dummies = pd.get_dummies(bank[Nominal])\n",
        "\n",
        "bank_prepared = pd.concat([bank_prepared, dummies],axis=1)\n",
        "bank_prepared = bank_prepared.drop(Nominal, axis = 1)\n",
        "\n",
        "\n",
        "#Ordinal\n",
        "bank_prepared['education'] = bank_prepared['education'].replace(['basic.4y','basic.6y','basic.9y'], 'basic')\n",
        "\n",
        "mapping_dict = {\n",
        "    \"education\": {\n",
        "        \"university.degree\": 5,\n",
        "        \"professional.course\": 4,\n",
        "        \"basic\": 3,\n",
        "        \"high.school\": 2,\n",
        "        \"illiterate\": 1,\n",
        "        \"unknown\": 0\n",
        "    }\n",
        "}\n",
        "bank_prepared = bank_prepared.replace(mapping_dict)"
      ],
      "metadata": {
        "id": "7ayM-d3Y0cNO"
      },
      "execution_count": 130,
      "outputs": []
    },
    {
      "cell_type": "code",
      "source": [
        "bank_prepared = bank_prepared.drop(['duration'], axis = 1) #removed since this columsn effect target variable\n"
      ],
      "metadata": {
        "id": "blhV3_HvJZ_u"
      },
      "execution_count": 131,
      "outputs": []
    },
    {
      "cell_type": "code",
      "source": [
        "bank_prepared['y'] = bank_prepared['y'].map(dict(yes=1, no=0))\n",
        "bank_prepared['y'].value_counts()"
      ],
      "metadata": {
        "colab": {
          "base_uri": "https://localhost:8080/"
        },
        "id": "Ual1BOIHJkCw",
        "outputId": "b3ba347d-d791-4776-954a-06e837463e15"
      },
      "execution_count": 132,
      "outputs": [
        {
          "output_type": "execute_result",
          "data": {
            "text/plain": [
              "0    36548\n",
              "1     4640\n",
              "Name: y, dtype: int64"
            ]
          },
          "metadata": {},
          "execution_count": 132
        }
      ]
    },
    {
      "cell_type": "code",
      "source": [
        "from sklearn.preprocessing import StandardScaler\n",
        "from sklearn.model_selection import train_test_split, KFold, cross_val_score,GridSearchCV\n",
        "from sklearn.metrics import roc_auc_score, confusion_matrix,precision_score, recall_score, accuracy_score,classification_report,roc_curve,f1_score    \n",
        "from sklearn.linear_model import LogisticRegression\n",
        "from sklearn.tree import DecisionTreeClassifier\n",
        "from sklearn.neighbors import KNeighborsClassifier\n",
        "from sklearn.discriminant_analysis import LinearDiscriminantAnalysis\n",
        "from sklearn.naive_bayes import GaussianNB\n",
        "from sklearn.ensemble import AdaBoostClassifier, GradientBoostingClassifier, RandomForestClassifier, ExtraTreesClassifier\n",
        "from sklearn.model_selection import cross_val_predict\n",
        "from sklearn.utils import resample\n",
        "from sklearn.base import BaseEstimator, TransformerMixin\n",
        "from sklearn.pipeline import Pipeline, FeatureUnion"
      ],
      "metadata": {
        "id": "j1pFUHkqJdAL"
      },
      "execution_count": 133,
      "outputs": []
    },
    {
      "cell_type": "code",
      "source": [
        "validation_size = 0.20 # 20% test data\n",
        "seed = 10\n",
        "bank_train, bank_test = train_test_split(bank_prepared, test_size=validation_size, random_state=seed)"
      ],
      "metadata": {
        "id": "Q_ByD9HBKHBR"
      },
      "execution_count": 134,
      "outputs": []
    },
    {
      "cell_type": "code",
      "source": [
        "X_train = bank_train.drop(['y'], axis = 1)\n",
        "Y_train = bank_train['y']\n",
        "X_test = bank_test.drop(['y'], axis = 1)\n",
        "Y_test = bank_test['y'] "
      ],
      "metadata": {
        "id": "A1jpgut2Ke0J"
      },
      "execution_count": 135,
      "outputs": []
    },
    {
      "cell_type": "code",
      "source": [
        "Y_train.value_counts(normalize = True)"
      ],
      "metadata": {
        "colab": {
          "base_uri": "https://localhost:8080/"
        },
        "id": "N17kDBBrKiG5",
        "outputId": "81c3ba2d-eb80-4fc6-a68b-64a7c8394c99"
      },
      "execution_count": 136,
      "outputs": [
        {
          "output_type": "execute_result",
          "data": {
            "text/plain": [
              "0    0.887344\n",
              "1    0.112656\n",
              "Name: y, dtype: float64"
            ]
          },
          "metadata": {},
          "execution_count": 136
        }
      ]
    },
    {
      "cell_type": "code",
      "source": [
        "Y_test.value_counts(normalize = True)"
      ],
      "metadata": {
        "colab": {
          "base_uri": "https://localhost:8080/"
        },
        "id": "c6vp5Vz1Kmtv",
        "outputId": "b09171d3-7635-41bb-ba75-b597d594b19c"
      },
      "execution_count": 137,
      "outputs": [
        {
          "output_type": "execute_result",
          "data": {
            "text/plain": [
              "0    0.887351\n",
              "1    0.112649\n",
              "Name: y, dtype: float64"
            ]
          },
          "metadata": {},
          "execution_count": 137
        }
      ]
    },
    {
      "cell_type": "code",
      "source": [
        "# Spot Check Algorithms\n",
        "models = []\n",
        "models.append(('Logistic Regression', LogisticRegression()))\n",
        "models.append(('KNN', KNeighborsClassifier()))\n",
        "models.append(('Decision Tree', DecisionTreeClassifier()))\n",
        "models.append(('Naive Bayes', GaussianNB()))\n",
        "results = []\n",
        "names = []\n",
        "roc = []\n",
        "for name, model in models:\n",
        "    cv_results = cross_val_score(model, X_train.values, Y_train.values, cv = 10, scoring = 'accuracy')\n",
        "    y_train_pred = cross_val_predict(model, X_train.values, Y_train.values, cv = 10)\n",
        "    roc_results = cross_val_score(model, X_train.values, Y_train.values, cv=10, scoring = 'roc_auc')\n",
        "    results.append(cv_results)\n",
        "    names.append(name)\n",
        "    roc.append(roc_results)\n",
        "    print(\"{}\\nAccuracy: {:.4f}({:.4f})\".format(name, cv_results.mean(), cv_results.std()))\n",
        "    print(\"Recall: {:.4f}\".format(recall_score(Y_train.values, y_train_pred)))\n",
        "    print(\"Precision: {:.4f}\".format(precision_score(Y_train.values, y_train_pred)))\n",
        "    print(\"ROC: {:.4f}\".format(roc_results.mean()))\n",
        "    print('confusition_matrix')\n",
        "    print(confusion_matrix(Y_train.values, y_train_pred))\n",
        "    print('------------------------------------------------')\n",
        "    print(\"\\n\")"
      ],
      "metadata": {
        "colab": {
          "base_uri": "https://localhost:8080/"
        },
        "id": "l-muM7ZwKnds",
        "outputId": "1ed5b045-045c-49c0-9442-8de998b8ff19"
      },
      "execution_count": 138,
      "outputs": [
        {
          "output_type": "stream",
          "name": "stderr",
          "text": [
            "/usr/local/lib/python3.8/dist-packages/sklearn/linear_model/_logistic.py:814: ConvergenceWarning: lbfgs failed to converge (status=1):\n",
            "STOP: TOTAL NO. of ITERATIONS REACHED LIMIT.\n",
            "\n",
            "Increase the number of iterations (max_iter) or scale the data as shown in:\n",
            "    https://scikit-learn.org/stable/modules/preprocessing.html\n",
            "Please also refer to the documentation for alternative solver options:\n",
            "    https://scikit-learn.org/stable/modules/linear_model.html#logistic-regression\n",
            "  n_iter_i = _check_optimize_result(\n",
            "/usr/local/lib/python3.8/dist-packages/sklearn/linear_model/_logistic.py:814: ConvergenceWarning: lbfgs failed to converge (status=1):\n",
            "STOP: TOTAL NO. of ITERATIONS REACHED LIMIT.\n",
            "\n",
            "Increase the number of iterations (max_iter) or scale the data as shown in:\n",
            "    https://scikit-learn.org/stable/modules/preprocessing.html\n",
            "Please also refer to the documentation for alternative solver options:\n",
            "    https://scikit-learn.org/stable/modules/linear_model.html#logistic-regression\n",
            "  n_iter_i = _check_optimize_result(\n",
            "/usr/local/lib/python3.8/dist-packages/sklearn/linear_model/_logistic.py:814: ConvergenceWarning: lbfgs failed to converge (status=1):\n",
            "STOP: TOTAL NO. of ITERATIONS REACHED LIMIT.\n",
            "\n",
            "Increase the number of iterations (max_iter) or scale the data as shown in:\n",
            "    https://scikit-learn.org/stable/modules/preprocessing.html\n",
            "Please also refer to the documentation for alternative solver options:\n",
            "    https://scikit-learn.org/stable/modules/linear_model.html#logistic-regression\n",
            "  n_iter_i = _check_optimize_result(\n",
            "/usr/local/lib/python3.8/dist-packages/sklearn/linear_model/_logistic.py:814: ConvergenceWarning: lbfgs failed to converge (status=1):\n",
            "STOP: TOTAL NO. of ITERATIONS REACHED LIMIT.\n",
            "\n",
            "Increase the number of iterations (max_iter) or scale the data as shown in:\n",
            "    https://scikit-learn.org/stable/modules/preprocessing.html\n",
            "Please also refer to the documentation for alternative solver options:\n",
            "    https://scikit-learn.org/stable/modules/linear_model.html#logistic-regression\n",
            "  n_iter_i = _check_optimize_result(\n",
            "/usr/local/lib/python3.8/dist-packages/sklearn/linear_model/_logistic.py:814: ConvergenceWarning: lbfgs failed to converge (status=1):\n",
            "STOP: TOTAL NO. of ITERATIONS REACHED LIMIT.\n",
            "\n",
            "Increase the number of iterations (max_iter) or scale the data as shown in:\n",
            "    https://scikit-learn.org/stable/modules/preprocessing.html\n",
            "Please also refer to the documentation for alternative solver options:\n",
            "    https://scikit-learn.org/stable/modules/linear_model.html#logistic-regression\n",
            "  n_iter_i = _check_optimize_result(\n",
            "/usr/local/lib/python3.8/dist-packages/sklearn/linear_model/_logistic.py:814: ConvergenceWarning: lbfgs failed to converge (status=1):\n",
            "STOP: TOTAL NO. of ITERATIONS REACHED LIMIT.\n",
            "\n",
            "Increase the number of iterations (max_iter) or scale the data as shown in:\n",
            "    https://scikit-learn.org/stable/modules/preprocessing.html\n",
            "Please also refer to the documentation for alternative solver options:\n",
            "    https://scikit-learn.org/stable/modules/linear_model.html#logistic-regression\n",
            "  n_iter_i = _check_optimize_result(\n",
            "/usr/local/lib/python3.8/dist-packages/sklearn/linear_model/_logistic.py:814: ConvergenceWarning: lbfgs failed to converge (status=1):\n",
            "STOP: TOTAL NO. of ITERATIONS REACHED LIMIT.\n",
            "\n",
            "Increase the number of iterations (max_iter) or scale the data as shown in:\n",
            "    https://scikit-learn.org/stable/modules/preprocessing.html\n",
            "Please also refer to the documentation for alternative solver options:\n",
            "    https://scikit-learn.org/stable/modules/linear_model.html#logistic-regression\n",
            "  n_iter_i = _check_optimize_result(\n",
            "/usr/local/lib/python3.8/dist-packages/sklearn/linear_model/_logistic.py:814: ConvergenceWarning: lbfgs failed to converge (status=1):\n",
            "STOP: TOTAL NO. of ITERATIONS REACHED LIMIT.\n",
            "\n",
            "Increase the number of iterations (max_iter) or scale the data as shown in:\n",
            "    https://scikit-learn.org/stable/modules/preprocessing.html\n",
            "Please also refer to the documentation for alternative solver options:\n",
            "    https://scikit-learn.org/stable/modules/linear_model.html#logistic-regression\n",
            "  n_iter_i = _check_optimize_result(\n",
            "/usr/local/lib/python3.8/dist-packages/sklearn/linear_model/_logistic.py:814: ConvergenceWarning: lbfgs failed to converge (status=1):\n",
            "STOP: TOTAL NO. of ITERATIONS REACHED LIMIT.\n",
            "\n",
            "Increase the number of iterations (max_iter) or scale the data as shown in:\n",
            "    https://scikit-learn.org/stable/modules/preprocessing.html\n",
            "Please also refer to the documentation for alternative solver options:\n",
            "    https://scikit-learn.org/stable/modules/linear_model.html#logistic-regression\n",
            "  n_iter_i = _check_optimize_result(\n",
            "/usr/local/lib/python3.8/dist-packages/sklearn/linear_model/_logistic.py:814: ConvergenceWarning: lbfgs failed to converge (status=1):\n",
            "STOP: TOTAL NO. of ITERATIONS REACHED LIMIT.\n",
            "\n",
            "Increase the number of iterations (max_iter) or scale the data as shown in:\n",
            "    https://scikit-learn.org/stable/modules/preprocessing.html\n",
            "Please also refer to the documentation for alternative solver options:\n",
            "    https://scikit-learn.org/stable/modules/linear_model.html#logistic-regression\n",
            "  n_iter_i = _check_optimize_result(\n",
            "/usr/local/lib/python3.8/dist-packages/sklearn/linear_model/_logistic.py:814: ConvergenceWarning: lbfgs failed to converge (status=1):\n",
            "STOP: TOTAL NO. of ITERATIONS REACHED LIMIT.\n",
            "\n",
            "Increase the number of iterations (max_iter) or scale the data as shown in:\n",
            "    https://scikit-learn.org/stable/modules/preprocessing.html\n",
            "Please also refer to the documentation for alternative solver options:\n",
            "    https://scikit-learn.org/stable/modules/linear_model.html#logistic-regression\n",
            "  n_iter_i = _check_optimize_result(\n",
            "/usr/local/lib/python3.8/dist-packages/sklearn/linear_model/_logistic.py:814: ConvergenceWarning: lbfgs failed to converge (status=1):\n",
            "STOP: TOTAL NO. of ITERATIONS REACHED LIMIT.\n",
            "\n",
            "Increase the number of iterations (max_iter) or scale the data as shown in:\n",
            "    https://scikit-learn.org/stable/modules/preprocessing.html\n",
            "Please also refer to the documentation for alternative solver options:\n",
            "    https://scikit-learn.org/stable/modules/linear_model.html#logistic-regression\n",
            "  n_iter_i = _check_optimize_result(\n",
            "/usr/local/lib/python3.8/dist-packages/sklearn/linear_model/_logistic.py:814: ConvergenceWarning: lbfgs failed to converge (status=1):\n",
            "STOP: TOTAL NO. of ITERATIONS REACHED LIMIT.\n",
            "\n",
            "Increase the number of iterations (max_iter) or scale the data as shown in:\n",
            "    https://scikit-learn.org/stable/modules/preprocessing.html\n",
            "Please also refer to the documentation for alternative solver options:\n",
            "    https://scikit-learn.org/stable/modules/linear_model.html#logistic-regression\n",
            "  n_iter_i = _check_optimize_result(\n",
            "/usr/local/lib/python3.8/dist-packages/sklearn/linear_model/_logistic.py:814: ConvergenceWarning: lbfgs failed to converge (status=1):\n",
            "STOP: TOTAL NO. of ITERATIONS REACHED LIMIT.\n",
            "\n",
            "Increase the number of iterations (max_iter) or scale the data as shown in:\n",
            "    https://scikit-learn.org/stable/modules/preprocessing.html\n",
            "Please also refer to the documentation for alternative solver options:\n",
            "    https://scikit-learn.org/stable/modules/linear_model.html#logistic-regression\n",
            "  n_iter_i = _check_optimize_result(\n",
            "/usr/local/lib/python3.8/dist-packages/sklearn/linear_model/_logistic.py:814: ConvergenceWarning: lbfgs failed to converge (status=1):\n",
            "STOP: TOTAL NO. of ITERATIONS REACHED LIMIT.\n",
            "\n",
            "Increase the number of iterations (max_iter) or scale the data as shown in:\n",
            "    https://scikit-learn.org/stable/modules/preprocessing.html\n",
            "Please also refer to the documentation for alternative solver options:\n",
            "    https://scikit-learn.org/stable/modules/linear_model.html#logistic-regression\n",
            "  n_iter_i = _check_optimize_result(\n",
            "/usr/local/lib/python3.8/dist-packages/sklearn/linear_model/_logistic.py:814: ConvergenceWarning: lbfgs failed to converge (status=1):\n",
            "STOP: TOTAL NO. of ITERATIONS REACHED LIMIT.\n",
            "\n",
            "Increase the number of iterations (max_iter) or scale the data as shown in:\n",
            "    https://scikit-learn.org/stable/modules/preprocessing.html\n",
            "Please also refer to the documentation for alternative solver options:\n",
            "    https://scikit-learn.org/stable/modules/linear_model.html#logistic-regression\n",
            "  n_iter_i = _check_optimize_result(\n",
            "/usr/local/lib/python3.8/dist-packages/sklearn/linear_model/_logistic.py:814: ConvergenceWarning: lbfgs failed to converge (status=1):\n",
            "STOP: TOTAL NO. of ITERATIONS REACHED LIMIT.\n",
            "\n",
            "Increase the number of iterations (max_iter) or scale the data as shown in:\n",
            "    https://scikit-learn.org/stable/modules/preprocessing.html\n",
            "Please also refer to the documentation for alternative solver options:\n",
            "    https://scikit-learn.org/stable/modules/linear_model.html#logistic-regression\n",
            "  n_iter_i = _check_optimize_result(\n",
            "/usr/local/lib/python3.8/dist-packages/sklearn/linear_model/_logistic.py:814: ConvergenceWarning: lbfgs failed to converge (status=1):\n",
            "STOP: TOTAL NO. of ITERATIONS REACHED LIMIT.\n",
            "\n",
            "Increase the number of iterations (max_iter) or scale the data as shown in:\n",
            "    https://scikit-learn.org/stable/modules/preprocessing.html\n",
            "Please also refer to the documentation for alternative solver options:\n",
            "    https://scikit-learn.org/stable/modules/linear_model.html#logistic-regression\n",
            "  n_iter_i = _check_optimize_result(\n",
            "/usr/local/lib/python3.8/dist-packages/sklearn/linear_model/_logistic.py:814: ConvergenceWarning: lbfgs failed to converge (status=1):\n",
            "STOP: TOTAL NO. of ITERATIONS REACHED LIMIT.\n",
            "\n",
            "Increase the number of iterations (max_iter) or scale the data as shown in:\n",
            "    https://scikit-learn.org/stable/modules/preprocessing.html\n",
            "Please also refer to the documentation for alternative solver options:\n",
            "    https://scikit-learn.org/stable/modules/linear_model.html#logistic-regression\n",
            "  n_iter_i = _check_optimize_result(\n",
            "/usr/local/lib/python3.8/dist-packages/sklearn/linear_model/_logistic.py:814: ConvergenceWarning: lbfgs failed to converge (status=1):\n",
            "STOP: TOTAL NO. of ITERATIONS REACHED LIMIT.\n",
            "\n",
            "Increase the number of iterations (max_iter) or scale the data as shown in:\n",
            "    https://scikit-learn.org/stable/modules/preprocessing.html\n",
            "Please also refer to the documentation for alternative solver options:\n",
            "    https://scikit-learn.org/stable/modules/linear_model.html#logistic-regression\n",
            "  n_iter_i = _check_optimize_result(\n",
            "/usr/local/lib/python3.8/dist-packages/sklearn/linear_model/_logistic.py:814: ConvergenceWarning: lbfgs failed to converge (status=1):\n",
            "STOP: TOTAL NO. of ITERATIONS REACHED LIMIT.\n",
            "\n",
            "Increase the number of iterations (max_iter) or scale the data as shown in:\n",
            "    https://scikit-learn.org/stable/modules/preprocessing.html\n",
            "Please also refer to the documentation for alternative solver options:\n",
            "    https://scikit-learn.org/stable/modules/linear_model.html#logistic-regression\n",
            "  n_iter_i = _check_optimize_result(\n",
            "/usr/local/lib/python3.8/dist-packages/sklearn/linear_model/_logistic.py:814: ConvergenceWarning: lbfgs failed to converge (status=1):\n",
            "STOP: TOTAL NO. of ITERATIONS REACHED LIMIT.\n",
            "\n",
            "Increase the number of iterations (max_iter) or scale the data as shown in:\n",
            "    https://scikit-learn.org/stable/modules/preprocessing.html\n",
            "Please also refer to the documentation for alternative solver options:\n",
            "    https://scikit-learn.org/stable/modules/linear_model.html#logistic-regression\n",
            "  n_iter_i = _check_optimize_result(\n",
            "/usr/local/lib/python3.8/dist-packages/sklearn/linear_model/_logistic.py:814: ConvergenceWarning: lbfgs failed to converge (status=1):\n",
            "STOP: TOTAL NO. of ITERATIONS REACHED LIMIT.\n",
            "\n",
            "Increase the number of iterations (max_iter) or scale the data as shown in:\n",
            "    https://scikit-learn.org/stable/modules/preprocessing.html\n",
            "Please also refer to the documentation for alternative solver options:\n",
            "    https://scikit-learn.org/stable/modules/linear_model.html#logistic-regression\n",
            "  n_iter_i = _check_optimize_result(\n",
            "/usr/local/lib/python3.8/dist-packages/sklearn/linear_model/_logistic.py:814: ConvergenceWarning: lbfgs failed to converge (status=1):\n",
            "STOP: TOTAL NO. of ITERATIONS REACHED LIMIT.\n",
            "\n",
            "Increase the number of iterations (max_iter) or scale the data as shown in:\n",
            "    https://scikit-learn.org/stable/modules/preprocessing.html\n",
            "Please also refer to the documentation for alternative solver options:\n",
            "    https://scikit-learn.org/stable/modules/linear_model.html#logistic-regression\n",
            "  n_iter_i = _check_optimize_result(\n",
            "/usr/local/lib/python3.8/dist-packages/sklearn/linear_model/_logistic.py:814: ConvergenceWarning: lbfgs failed to converge (status=1):\n",
            "STOP: TOTAL NO. of ITERATIONS REACHED LIMIT.\n",
            "\n",
            "Increase the number of iterations (max_iter) or scale the data as shown in:\n",
            "    https://scikit-learn.org/stable/modules/preprocessing.html\n",
            "Please also refer to the documentation for alternative solver options:\n",
            "    https://scikit-learn.org/stable/modules/linear_model.html#logistic-regression\n",
            "  n_iter_i = _check_optimize_result(\n",
            "/usr/local/lib/python3.8/dist-packages/sklearn/linear_model/_logistic.py:814: ConvergenceWarning: lbfgs failed to converge (status=1):\n",
            "STOP: TOTAL NO. of ITERATIONS REACHED LIMIT.\n",
            "\n",
            "Increase the number of iterations (max_iter) or scale the data as shown in:\n",
            "    https://scikit-learn.org/stable/modules/preprocessing.html\n",
            "Please also refer to the documentation for alternative solver options:\n",
            "    https://scikit-learn.org/stable/modules/linear_model.html#logistic-regression\n",
            "  n_iter_i = _check_optimize_result(\n",
            "/usr/local/lib/python3.8/dist-packages/sklearn/linear_model/_logistic.py:814: ConvergenceWarning: lbfgs failed to converge (status=1):\n",
            "STOP: TOTAL NO. of ITERATIONS REACHED LIMIT.\n",
            "\n",
            "Increase the number of iterations (max_iter) or scale the data as shown in:\n",
            "    https://scikit-learn.org/stable/modules/preprocessing.html\n",
            "Please also refer to the documentation for alternative solver options:\n",
            "    https://scikit-learn.org/stable/modules/linear_model.html#logistic-regression\n",
            "  n_iter_i = _check_optimize_result(\n",
            "/usr/local/lib/python3.8/dist-packages/sklearn/linear_model/_logistic.py:814: ConvergenceWarning: lbfgs failed to converge (status=1):\n",
            "STOP: TOTAL NO. of ITERATIONS REACHED LIMIT.\n",
            "\n",
            "Increase the number of iterations (max_iter) or scale the data as shown in:\n",
            "    https://scikit-learn.org/stable/modules/preprocessing.html\n",
            "Please also refer to the documentation for alternative solver options:\n",
            "    https://scikit-learn.org/stable/modules/linear_model.html#logistic-regression\n",
            "  n_iter_i = _check_optimize_result(\n",
            "/usr/local/lib/python3.8/dist-packages/sklearn/linear_model/_logistic.py:814: ConvergenceWarning: lbfgs failed to converge (status=1):\n",
            "STOP: TOTAL NO. of ITERATIONS REACHED LIMIT.\n",
            "\n",
            "Increase the number of iterations (max_iter) or scale the data as shown in:\n",
            "    https://scikit-learn.org/stable/modules/preprocessing.html\n",
            "Please also refer to the documentation for alternative solver options:\n",
            "    https://scikit-learn.org/stable/modules/linear_model.html#logistic-regression\n",
            "  n_iter_i = _check_optimize_result(\n",
            "/usr/local/lib/python3.8/dist-packages/sklearn/linear_model/_logistic.py:814: ConvergenceWarning: lbfgs failed to converge (status=1):\n",
            "STOP: TOTAL NO. of ITERATIONS REACHED LIMIT.\n",
            "\n",
            "Increase the number of iterations (max_iter) or scale the data as shown in:\n",
            "    https://scikit-learn.org/stable/modules/preprocessing.html\n",
            "Please also refer to the documentation for alternative solver options:\n",
            "    https://scikit-learn.org/stable/modules/linear_model.html#logistic-regression\n",
            "  n_iter_i = _check_optimize_result(\n"
          ]
        },
        {
          "output_type": "stream",
          "name": "stdout",
          "text": [
            "Logistic Regression\n",
            "Accuracy: 0.9004(0.0027)\n",
            "Recall: 0.1961\n",
            "Precision: 0.7089\n",
            "ROC: 0.7632\n",
            "confusition_matrix\n",
            "[[28939   299]\n",
            " [ 2984   728]]\n",
            "------------------------------------------------\n",
            "\n",
            "\n",
            "KNN\n",
            "Accuracy: 0.8892(0.0035)\n",
            "Recall: 0.2869\n",
            "Precision: 0.5145\n",
            "ROC: 0.7265\n",
            "confusition_matrix\n",
            "[[28233  1005]\n",
            " [ 2647  1065]]\n",
            "------------------------------------------------\n",
            "\n",
            "\n",
            "Decision Tree\n",
            "Accuracy: 0.8395(0.0050)\n",
            "Recall: 0.3446\n",
            "Precision: 0.3088\n",
            "ROC: 0.6232\n",
            "confusition_matrix\n",
            "[[26375  2863]\n",
            " [ 2433  1279]]\n",
            "------------------------------------------------\n",
            "\n",
            "\n",
            "Naive Bayes\n",
            "Accuracy: 0.8223(0.0030)\n",
            "Recall: 0.5081\n",
            "Precision: 0.3189\n",
            "ROC: 0.7604\n",
            "confusition_matrix\n",
            "[[25209  4029]\n",
            " [ 1826  1886]]\n",
            "------------------------------------------------\n",
            "\n",
            "\n"
          ]
        }
      ]
    },
    {
      "cell_type": "code",
      "source": [
        "X_train.columns"
      ],
      "metadata": {
        "colab": {
          "base_uri": "https://localhost:8080/"
        },
        "id": "ac5mb7eaNI0e",
        "outputId": "4aa9a2c0-e2b8-4cad-b6a5-53a761392caa"
      },
      "execution_count": 139,
      "outputs": [
        {
          "output_type": "execute_result",
          "data": {
            "text/plain": [
              "Index(['age', 'education', 'campaign', 'pdays', 'previous', 'emp.var.rate',\n",
              "       'cons.price.idx', 'cons.conf.idx', 'euribor3m', 'nr.employed',\n",
              "       'job_admin.', 'job_blue-collar', 'job_entrepreneur', 'job_housemaid',\n",
              "       'job_management', 'job_retired', 'job_self-employed', 'job_services',\n",
              "       'job_student', 'job_technician', 'job_unemployed', 'job_unknown',\n",
              "       'marital_divorced', 'marital_married', 'marital_single',\n",
              "       'marital_unknown', 'default_no', 'default_unknown', 'default_yes',\n",
              "       'housing_no', 'housing_unknown', 'housing_yes', 'loan_no',\n",
              "       'loan_unknown', 'loan_yes', 'contact_cellular', 'contact_telephone',\n",
              "       'poutcome_failure', 'poutcome_nonexistent', 'poutcome_success'],\n",
              "      dtype='object')"
            ]
          },
          "metadata": {},
          "execution_count": 139
        }
      ]
    },
    {
      "cell_type": "code",
      "source": [
        "len(X_train.columns)"
      ],
      "metadata": {
        "colab": {
          "base_uri": "https://localhost:8080/"
        },
        "id": "50LY6qtUNSrG",
        "outputId": "7937b4d1-9fdb-4494-f3f5-310fd24cb0a6"
      },
      "execution_count": 140,
      "outputs": [
        {
          "output_type": "execute_result",
          "data": {
            "text/plain": [
              "40"
            ]
          },
          "metadata": {},
          "execution_count": 140
        }
      ]
    },
    {
      "cell_type": "code",
      "source": [
        "import numpy as np\n",
        "from keras import models\n",
        "from keras import layers\n",
        "from keras.preprocessing.text import Tokenizer\n",
        "from keras_preprocessing.sequence import pad_sequences\n",
        "from keras.utils import to_categorical\n",
        "from keras.models import Sequential\n",
        "from keras.layers import Dense, Embedding, LSTM, GRU, Dropout"
      ],
      "metadata": {
        "id": "F_WTNUG4OoY8"
      },
      "execution_count": 141,
      "outputs": []
    },
    {
      "cell_type": "code",
      "source": [
        "from keras.optimizers import Adam\n",
        "opt = Adam(lr=0.001, beta_1=0.9, beta_2=0.999, epsilon=1e-08)\n"
      ],
      "metadata": {
        "colab": {
          "base_uri": "https://localhost:8080/"
        },
        "id": "w0bdcS-0SC5t",
        "outputId": "93c649c4-a3c2-427f-cc18-63f5eb7647de"
      },
      "execution_count": 148,
      "outputs": [
        {
          "output_type": "stream",
          "name": "stderr",
          "text": [
            "/usr/local/lib/python3.8/dist-packages/keras/optimizers/optimizer_v2/adam.py:110: UserWarning: The `lr` argument is deprecated, use `learning_rate` instead.\n",
            "  super(Adam, self).__init__(name, **kwargs)\n"
          ]
        }
      ]
    },
    {
      "cell_type": "code",
      "source": [
        "# from keras.optimizers import SGD\n",
        "# opt = SGD(lr=0.000001, momentum=0.9, decay=1e-6, nesterov=True)"
      ],
      "metadata": {
        "colab": {
          "base_uri": "https://localhost:8080/"
        },
        "id": "ZImG-hsZSUjy",
        "outputId": "045d0a2b-4809-4487-bd31-803f49c7c29c"
      },
      "execution_count": 143,
      "outputs": [
        {
          "output_type": "stream",
          "name": "stderr",
          "text": [
            "/usr/local/lib/python3.8/dist-packages/keras/optimizers/optimizer_v2/gradient_descent.py:108: UserWarning: The `lr` argument is deprecated, use `learning_rate` instead.\n",
            "  super(SGD, self).__init__(name, **kwargs)\n"
          ]
        }
      ]
    },
    {
      "cell_type": "code",
      "source": [
        "opt=\"rmsprop\""
      ],
      "metadata": {
        "id": "W32etOEgZExV"
      },
      "execution_count": 149,
      "outputs": []
    },
    {
      "cell_type": "code",
      "source": [
        "from IPython.display import SVG\n",
        "from keras.utils.vis_utils import model_to_dot\n",
        "from keras.utils import plot_model"
      ],
      "metadata": {
        "id": "78p-VpgsSgQj"
      },
      "execution_count": 144,
      "outputs": []
    },
    {
      "cell_type": "code",
      "source": [
        "model = Sequential()\n",
        "model.add(Dense(16, activation='relu', input_dim=40))\n",
        "model.add(Dense(16, activation='relu'))\n",
        "model.add(Dense(1, activation='softmax'))\n",
        "\n",
        "model.compile(optimizer=opt, \n",
        "              loss='binary_crossentropy', metrics=['accuracy'])\n",
        "\n",
        "# Train the model\n",
        "model.fit(X_train, Y_train, epochs=10, batch_size=32)\n",
        "\n",
        "# Evaluate the model on the test set\n",
        "score, accuracy = model.evaluate(X_test, Y_test)\n",
        "print(\"Test accuracy:\", accuracy)"
      ],
      "metadata": {
        "colab": {
          "base_uri": "https://localhost:8080/"
        },
        "id": "qmmBEH-OP5zX",
        "outputId": "dd9eb52d-fc5f-404e-ac2c-92ff0f854086"
      },
      "execution_count": 150,
      "outputs": [
        {
          "output_type": "stream",
          "name": "stdout",
          "text": [
            "Epoch 1/10\n",
            "1030/1030 [==============================] - 3s 2ms/step - loss: 3.5536 - accuracy: 0.1127\n",
            "Epoch 2/10\n",
            "1030/1030 [==============================] - 2s 2ms/step - loss: 2.5772 - accuracy: 0.1127\n",
            "Epoch 3/10\n",
            "1030/1030 [==============================] - 2s 2ms/step - loss: 2.2401 - accuracy: 0.1127\n",
            "Epoch 4/10\n",
            "1030/1030 [==============================] - 2s 2ms/step - loss: 2.0152 - accuracy: 0.1127\n",
            "Epoch 5/10\n",
            "1030/1030 [==============================] - 2s 2ms/step - loss: 1.7952 - accuracy: 0.1127\n",
            "Epoch 6/10\n",
            "1030/1030 [==============================] - 2s 2ms/step - loss: 1.6456 - accuracy: 0.1127\n",
            "Epoch 7/10\n",
            "1030/1030 [==============================] - 2s 2ms/step - loss: 1.4642 - accuracy: 0.1127\n",
            "Epoch 8/10\n",
            "1030/1030 [==============================] - 2s 2ms/step - loss: 1.2469 - accuracy: 0.1127\n",
            "Epoch 9/10\n",
            "1030/1030 [==============================] - 2s 2ms/step - loss: 0.9411 - accuracy: 0.1127\n",
            "Epoch 10/10\n",
            "1030/1030 [==============================] - 2s 2ms/step - loss: 0.8050 - accuracy: 0.1127\n",
            "258/258 [==============================] - 1s 2ms/step - loss: 0.4027 - accuracy: 0.1126\n",
            "Test accuracy: 0.11264870315790176\n"
          ]
        }
      ]
    },
    {
      "cell_type": "code",
      "source": [
        "SVG(model_to_dot(model, show_shapes=True).create(prog=\"dot\", format=\"svg\"))"
      ],
      "metadata": {
        "colab": {
          "base_uri": "https://localhost:8080/",
          "height": 561
        },
        "id": "0R8IiV_ETNhc",
        "outputId": "ffff155f-cf79-4ada-d875-133e6235167b"
      },
      "execution_count": 151,
      "outputs": [
        {
          "output_type": "execute_result",
          "data": {
            "text/plain": [
              "<IPython.core.display.SVG object>"
            ],
            "image/svg+xml": "<svg xmlns=\"http://www.w3.org/2000/svg\" xmlns:xlink=\"http://www.w3.org/1999/xlink\" width=\"333pt\" height=\"405pt\" viewBox=\"0.00 0.00 250.00 304.00\">\n<g id=\"graph0\" class=\"graph\" transform=\"scale(0.75 0.75) rotate(0) translate(4 300)\">\n<title>G</title>\n<polygon fill=\"white\" stroke=\"transparent\" points=\"-4,4 -4,-300 246,-300 246,4 -4,4\"/>\n<!-- 139713857875920 -->\n<g id=\"node1\" class=\"node\">\n<title>139713857875920</title>\n<polygon fill=\"none\" stroke=\"black\" points=\"0,-249.5 0,-295.5 242,-295.5 242,-249.5 0,-249.5\"/>\n<text text-anchor=\"middle\" x=\"51\" y=\"-280.3\" font-family=\"Times,serif\" font-size=\"14.00\">dense_25_input</text>\n<polyline fill=\"none\" stroke=\"black\" points=\"0,-272.5 102,-272.5 \"/>\n<text text-anchor=\"middle\" x=\"51\" y=\"-257.3\" font-family=\"Times,serif\" font-size=\"14.00\">InputLayer</text>\n<polyline fill=\"none\" stroke=\"black\" points=\"102,-249.5 102,-295.5 \"/>\n<text text-anchor=\"middle\" x=\"129.5\" y=\"-280.3\" font-family=\"Times,serif\" font-size=\"14.00\">input:</text>\n<polyline fill=\"none\" stroke=\"black\" points=\"102,-272.5 157,-272.5 \"/>\n<text text-anchor=\"middle\" x=\"129.5\" y=\"-257.3\" font-family=\"Times,serif\" font-size=\"14.00\">output:</text>\n<polyline fill=\"none\" stroke=\"black\" points=\"157,-249.5 157,-295.5 \"/>\n<text text-anchor=\"middle\" x=\"199.5\" y=\"-280.3\" font-family=\"Times,serif\" font-size=\"14.00\">[(None, 40)]</text>\n<polyline fill=\"none\" stroke=\"black\" points=\"157,-272.5 242,-272.5 \"/>\n<text text-anchor=\"middle\" x=\"199.5\" y=\"-257.3\" font-family=\"Times,serif\" font-size=\"14.00\">[(None, 40)]</text>\n</g>\n<!-- 139713857875872 -->\n<g id=\"node2\" class=\"node\">\n<title>139713857875872</title>\n<polygon fill=\"none\" stroke=\"black\" points=\"21.5,-166.5 21.5,-212.5 220.5,-212.5 220.5,-166.5 21.5,-166.5\"/>\n<text text-anchor=\"middle\" x=\"55.5\" y=\"-197.3\" font-family=\"Times,serif\" font-size=\"14.00\">dense_25</text>\n<polyline fill=\"none\" stroke=\"black\" points=\"21.5,-189.5 89.5,-189.5 \"/>\n<text text-anchor=\"middle\" x=\"55.5\" y=\"-174.3\" font-family=\"Times,serif\" font-size=\"14.00\">Dense</text>\n<polyline fill=\"none\" stroke=\"black\" points=\"89.5,-166.5 89.5,-212.5 \"/>\n<text text-anchor=\"middle\" x=\"117\" y=\"-197.3\" font-family=\"Times,serif\" font-size=\"14.00\">input:</text>\n<polyline fill=\"none\" stroke=\"black\" points=\"89.5,-189.5 144.5,-189.5 \"/>\n<text text-anchor=\"middle\" x=\"117\" y=\"-174.3\" font-family=\"Times,serif\" font-size=\"14.00\">output:</text>\n<polyline fill=\"none\" stroke=\"black\" points=\"144.5,-166.5 144.5,-212.5 \"/>\n<text text-anchor=\"middle\" x=\"182.5\" y=\"-197.3\" font-family=\"Times,serif\" font-size=\"14.00\">(None, 40)</text>\n<polyline fill=\"none\" stroke=\"black\" points=\"144.5,-189.5 220.5,-189.5 \"/>\n<text text-anchor=\"middle\" x=\"182.5\" y=\"-174.3\" font-family=\"Times,serif\" font-size=\"14.00\">(None, 16)</text>\n</g>\n<!-- 139713857875920&#45;&gt;139713857875872 -->\n<g id=\"edge1\" class=\"edge\">\n<title>139713857875920-&gt;139713857875872</title>\n<path fill=\"none\" stroke=\"black\" d=\"M121,-249.37C121,-241.15 121,-231.66 121,-222.73\"/>\n<polygon fill=\"black\" stroke=\"black\" points=\"124.5,-222.61 121,-212.61 117.5,-222.61 124.5,-222.61\"/>\n</g>\n<!-- 139713857874528 -->\n<g id=\"node3\" class=\"node\">\n<title>139713857874528</title>\n<polygon fill=\"none\" stroke=\"black\" points=\"21.5,-83.5 21.5,-129.5 220.5,-129.5 220.5,-83.5 21.5,-83.5\"/>\n<text text-anchor=\"middle\" x=\"55.5\" y=\"-114.3\" font-family=\"Times,serif\" font-size=\"14.00\">dense_26</text>\n<polyline fill=\"none\" stroke=\"black\" points=\"21.5,-106.5 89.5,-106.5 \"/>\n<text text-anchor=\"middle\" x=\"55.5\" y=\"-91.3\" font-family=\"Times,serif\" font-size=\"14.00\">Dense</text>\n<polyline fill=\"none\" stroke=\"black\" points=\"89.5,-83.5 89.5,-129.5 \"/>\n<text text-anchor=\"middle\" x=\"117\" y=\"-114.3\" font-family=\"Times,serif\" font-size=\"14.00\">input:</text>\n<polyline fill=\"none\" stroke=\"black\" points=\"89.5,-106.5 144.5,-106.5 \"/>\n<text text-anchor=\"middle\" x=\"117\" y=\"-91.3\" font-family=\"Times,serif\" font-size=\"14.00\">output:</text>\n<polyline fill=\"none\" stroke=\"black\" points=\"144.5,-83.5 144.5,-129.5 \"/>\n<text text-anchor=\"middle\" x=\"182.5\" y=\"-114.3\" font-family=\"Times,serif\" font-size=\"14.00\">(None, 16)</text>\n<polyline fill=\"none\" stroke=\"black\" points=\"144.5,-106.5 220.5,-106.5 \"/>\n<text text-anchor=\"middle\" x=\"182.5\" y=\"-91.3\" font-family=\"Times,serif\" font-size=\"14.00\">(None, 16)</text>\n</g>\n<!-- 139713857875872&#45;&gt;139713857874528 -->\n<g id=\"edge2\" class=\"edge\">\n<title>139713857875872-&gt;139713857874528</title>\n<path fill=\"none\" stroke=\"black\" d=\"M121,-166.37C121,-158.15 121,-148.66 121,-139.73\"/>\n<polygon fill=\"black\" stroke=\"black\" points=\"124.5,-139.61 121,-129.61 117.5,-139.61 124.5,-139.61\"/>\n</g>\n<!-- 139713881481952 -->\n<g id=\"node4\" class=\"node\">\n<title>139713881481952</title>\n<polygon fill=\"none\" stroke=\"black\" points=\"21.5,-0.5 21.5,-46.5 220.5,-46.5 220.5,-0.5 21.5,-0.5\"/>\n<text text-anchor=\"middle\" x=\"55.5\" y=\"-31.3\" font-family=\"Times,serif\" font-size=\"14.00\">dense_27</text>\n<polyline fill=\"none\" stroke=\"black\" points=\"21.5,-23.5 89.5,-23.5 \"/>\n<text text-anchor=\"middle\" x=\"55.5\" y=\"-8.3\" font-family=\"Times,serif\" font-size=\"14.00\">Dense</text>\n<polyline fill=\"none\" stroke=\"black\" points=\"89.5,-0.5 89.5,-46.5 \"/>\n<text text-anchor=\"middle\" x=\"117\" y=\"-31.3\" font-family=\"Times,serif\" font-size=\"14.00\">input:</text>\n<polyline fill=\"none\" stroke=\"black\" points=\"89.5,-23.5 144.5,-23.5 \"/>\n<text text-anchor=\"middle\" x=\"117\" y=\"-8.3\" font-family=\"Times,serif\" font-size=\"14.00\">output:</text>\n<polyline fill=\"none\" stroke=\"black\" points=\"144.5,-0.5 144.5,-46.5 \"/>\n<text text-anchor=\"middle\" x=\"182.5\" y=\"-31.3\" font-family=\"Times,serif\" font-size=\"14.00\">(None, 16)</text>\n<polyline fill=\"none\" stroke=\"black\" points=\"144.5,-23.5 220.5,-23.5 \"/>\n<text text-anchor=\"middle\" x=\"182.5\" y=\"-8.3\" font-family=\"Times,serif\" font-size=\"14.00\">(None, 1)</text>\n</g>\n<!-- 139713857874528&#45;&gt;139713881481952 -->\n<g id=\"edge3\" class=\"edge\">\n<title>139713857874528-&gt;139713881481952</title>\n<path fill=\"none\" stroke=\"black\" d=\"M121,-83.37C121,-75.15 121,-65.66 121,-56.73\"/>\n<polygon fill=\"black\" stroke=\"black\" points=\"124.5,-56.61 121,-46.61 117.5,-56.61 124.5,-56.61\"/>\n</g>\n</g>\n</svg>"
          },
          "metadata": {},
          "execution_count": 151
        }
      ]
    },
    {
      "cell_type": "code",
      "source": [
        "\n",
        "model = Sequential()\n",
        "model.add(Dense(16, activation='relu', input_dim=40))\n",
        "model.add(Dropout(.5))\n",
        "model.add(Dense(16, activation='relu'))\n",
        "model.add(Dropout(.5))\n",
        "model.add(Dense(1, activation='softmax'))\n",
        "\n",
        "model.compile(optimizer=opt, loss='categorical_crossentropy', metrics=['accuracy'])\n",
        "\n",
        "# Train the model\n",
        "model.fit(X_train, Y_train, epochs=10, batch_size=32)\n",
        "\n",
        "# Evaluate the model on the test set\n",
        "score, accuracy = model.evaluate(X_test, Y_test)\n",
        "print(\"Test accuracy:\", accuracy)"
      ],
      "metadata": {
        "colab": {
          "base_uri": "https://localhost:8080/"
        },
        "id": "ZuKe0ysWRX68",
        "outputId": "2c4f8655-f627-4896-f488-c1fbe3604c45"
      },
      "execution_count": 152,
      "outputs": [
        {
          "output_type": "stream",
          "name": "stdout",
          "text": [
            "Epoch 1/10\n",
            "1030/1030 [==============================] - 3s 2ms/step - loss: 0.0000e+00 - accuracy: 0.1127\n",
            "Epoch 2/10\n",
            "1030/1030 [==============================] - 2s 2ms/step - loss: 0.0000e+00 - accuracy: 0.1127\n",
            "Epoch 3/10\n",
            "1030/1030 [==============================] - 2s 2ms/step - loss: 0.0000e+00 - accuracy: 0.1127\n",
            "Epoch 4/10\n",
            "1030/1030 [==============================] - 2s 2ms/step - loss: 0.0000e+00 - accuracy: 0.1127\n",
            "Epoch 5/10\n",
            "1030/1030 [==============================] - 2s 2ms/step - loss: 0.0000e+00 - accuracy: 0.1127\n",
            "Epoch 6/10\n",
            "1030/1030 [==============================] - 2s 2ms/step - loss: 0.0000e+00 - accuracy: 0.1127\n",
            "Epoch 7/10\n",
            "1030/1030 [==============================] - 2s 2ms/step - loss: 0.0000e+00 - accuracy: 0.1127\n",
            "Epoch 8/10\n",
            "1030/1030 [==============================] - 2s 2ms/step - loss: 0.0000e+00 - accuracy: 0.1127\n",
            "Epoch 9/10\n",
            "1030/1030 [==============================] - 2s 2ms/step - loss: 0.0000e+00 - accuracy: 0.1127\n",
            "Epoch 10/10\n",
            "1030/1030 [==============================] - 2s 2ms/step - loss: 0.0000e+00 - accuracy: 0.1127\n",
            "258/258 [==============================] - 1s 2ms/step - loss: 0.0000e+00 - accuracy: 0.1126\n",
            "Test accuracy: 0.11264870315790176\n"
          ]
        }
      ]
    },
    {
      "cell_type": "code",
      "source": [
        "SVG(model_to_dot(model, show_shapes=True).create(prog=\"dot\", format=\"svg\"))"
      ],
      "metadata": {
        "colab": {
          "base_uri": "https://localhost:8080/",
          "height": 857
        },
        "id": "TFyUh-K4S4yb",
        "outputId": "c084e4d8-d0f2-4ec6-db50-a0f5adc2706f"
      },
      "execution_count": 153,
      "outputs": [
        {
          "output_type": "execute_result",
          "data": {
            "text/plain": [
              "<IPython.core.display.SVG object>"
            ],
            "image/svg+xml": "<svg xmlns=\"http://www.w3.org/2000/svg\" xmlns:xlink=\"http://www.w3.org/1999/xlink\" width=\"333pt\" height=\"627pt\" viewBox=\"0.00 0.00 250.00 470.00\">\n<g id=\"graph0\" class=\"graph\" transform=\"scale(0.75 0.75) rotate(0) translate(4 466)\">\n<title>G</title>\n<polygon fill=\"white\" stroke=\"transparent\" points=\"-4,4 -4,-466 246,-466 246,4 -4,4\"/>\n<!-- 139713856309472 -->\n<g id=\"node1\" class=\"node\">\n<title>139713856309472</title>\n<polygon fill=\"none\" stroke=\"black\" points=\"0,-415.5 0,-461.5 242,-461.5 242,-415.5 0,-415.5\"/>\n<text text-anchor=\"middle\" x=\"51\" y=\"-446.3\" font-family=\"Times,serif\" font-size=\"14.00\">dense_28_input</text>\n<polyline fill=\"none\" stroke=\"black\" points=\"0,-438.5 102,-438.5 \"/>\n<text text-anchor=\"middle\" x=\"51\" y=\"-423.3\" font-family=\"Times,serif\" font-size=\"14.00\">InputLayer</text>\n<polyline fill=\"none\" stroke=\"black\" points=\"102,-415.5 102,-461.5 \"/>\n<text text-anchor=\"middle\" x=\"129.5\" y=\"-446.3\" font-family=\"Times,serif\" font-size=\"14.00\">input:</text>\n<polyline fill=\"none\" stroke=\"black\" points=\"102,-438.5 157,-438.5 \"/>\n<text text-anchor=\"middle\" x=\"129.5\" y=\"-423.3\" font-family=\"Times,serif\" font-size=\"14.00\">output:</text>\n<polyline fill=\"none\" stroke=\"black\" points=\"157,-415.5 157,-461.5 \"/>\n<text text-anchor=\"middle\" x=\"199.5\" y=\"-446.3\" font-family=\"Times,serif\" font-size=\"14.00\">[(None, 40)]</text>\n<polyline fill=\"none\" stroke=\"black\" points=\"157,-438.5 242,-438.5 \"/>\n<text text-anchor=\"middle\" x=\"199.5\" y=\"-423.3\" font-family=\"Times,serif\" font-size=\"14.00\">[(None, 40)]</text>\n</g>\n<!-- 139713856311008 -->\n<g id=\"node2\" class=\"node\">\n<title>139713856311008</title>\n<polygon fill=\"none\" stroke=\"black\" points=\"21.5,-332.5 21.5,-378.5 220.5,-378.5 220.5,-332.5 21.5,-332.5\"/>\n<text text-anchor=\"middle\" x=\"55.5\" y=\"-363.3\" font-family=\"Times,serif\" font-size=\"14.00\">dense_28</text>\n<polyline fill=\"none\" stroke=\"black\" points=\"21.5,-355.5 89.5,-355.5 \"/>\n<text text-anchor=\"middle\" x=\"55.5\" y=\"-340.3\" font-family=\"Times,serif\" font-size=\"14.00\">Dense</text>\n<polyline fill=\"none\" stroke=\"black\" points=\"89.5,-332.5 89.5,-378.5 \"/>\n<text text-anchor=\"middle\" x=\"117\" y=\"-363.3\" font-family=\"Times,serif\" font-size=\"14.00\">input:</text>\n<polyline fill=\"none\" stroke=\"black\" points=\"89.5,-355.5 144.5,-355.5 \"/>\n<text text-anchor=\"middle\" x=\"117\" y=\"-340.3\" font-family=\"Times,serif\" font-size=\"14.00\">output:</text>\n<polyline fill=\"none\" stroke=\"black\" points=\"144.5,-332.5 144.5,-378.5 \"/>\n<text text-anchor=\"middle\" x=\"182.5\" y=\"-363.3\" font-family=\"Times,serif\" font-size=\"14.00\">(None, 40)</text>\n<polyline fill=\"none\" stroke=\"black\" points=\"144.5,-355.5 220.5,-355.5 \"/>\n<text text-anchor=\"middle\" x=\"182.5\" y=\"-340.3\" font-family=\"Times,serif\" font-size=\"14.00\">(None, 16)</text>\n</g>\n<!-- 139713856309472&#45;&gt;139713856311008 -->\n<g id=\"edge1\" class=\"edge\">\n<title>139713856309472-&gt;139713856311008</title>\n<path fill=\"none\" stroke=\"black\" d=\"M121,-415.37C121,-407.15 121,-397.66 121,-388.73\"/>\n<polygon fill=\"black\" stroke=\"black\" points=\"124.5,-388.61 121,-378.61 117.5,-388.61 124.5,-388.61\"/>\n</g>\n<!-- 139713856311152 -->\n<g id=\"node3\" class=\"node\">\n<title>139713856311152</title>\n<polygon fill=\"none\" stroke=\"black\" points=\"19.5,-249.5 19.5,-295.5 222.5,-295.5 222.5,-249.5 19.5,-249.5\"/>\n<text text-anchor=\"middle\" x=\"55.5\" y=\"-280.3\" font-family=\"Times,serif\" font-size=\"14.00\">dropout_4</text>\n<polyline fill=\"none\" stroke=\"black\" points=\"19.5,-272.5 91.5,-272.5 \"/>\n<text text-anchor=\"middle\" x=\"55.5\" y=\"-257.3\" font-family=\"Times,serif\" font-size=\"14.00\">Dropout</text>\n<polyline fill=\"none\" stroke=\"black\" points=\"91.5,-249.5 91.5,-295.5 \"/>\n<text text-anchor=\"middle\" x=\"119\" y=\"-280.3\" font-family=\"Times,serif\" font-size=\"14.00\">input:</text>\n<polyline fill=\"none\" stroke=\"black\" points=\"91.5,-272.5 146.5,-272.5 \"/>\n<text text-anchor=\"middle\" x=\"119\" y=\"-257.3\" font-family=\"Times,serif\" font-size=\"14.00\">output:</text>\n<polyline fill=\"none\" stroke=\"black\" points=\"146.5,-249.5 146.5,-295.5 \"/>\n<text text-anchor=\"middle\" x=\"184.5\" y=\"-280.3\" font-family=\"Times,serif\" font-size=\"14.00\">(None, 16)</text>\n<polyline fill=\"none\" stroke=\"black\" points=\"146.5,-272.5 222.5,-272.5 \"/>\n<text text-anchor=\"middle\" x=\"184.5\" y=\"-257.3\" font-family=\"Times,serif\" font-size=\"14.00\">(None, 16)</text>\n</g>\n<!-- 139713856311008&#45;&gt;139713856311152 -->\n<g id=\"edge2\" class=\"edge\">\n<title>139713856311008-&gt;139713856311152</title>\n<path fill=\"none\" stroke=\"black\" d=\"M121,-332.37C121,-324.15 121,-314.66 121,-305.73\"/>\n<polygon fill=\"black\" stroke=\"black\" points=\"124.5,-305.61 121,-295.61 117.5,-305.61 124.5,-305.61\"/>\n</g>\n<!-- 139713856148720 -->\n<g id=\"node4\" class=\"node\">\n<title>139713856148720</title>\n<polygon fill=\"none\" stroke=\"black\" points=\"21.5,-166.5 21.5,-212.5 220.5,-212.5 220.5,-166.5 21.5,-166.5\"/>\n<text text-anchor=\"middle\" x=\"55.5\" y=\"-197.3\" font-family=\"Times,serif\" font-size=\"14.00\">dense_29</text>\n<polyline fill=\"none\" stroke=\"black\" points=\"21.5,-189.5 89.5,-189.5 \"/>\n<text text-anchor=\"middle\" x=\"55.5\" y=\"-174.3\" font-family=\"Times,serif\" font-size=\"14.00\">Dense</text>\n<polyline fill=\"none\" stroke=\"black\" points=\"89.5,-166.5 89.5,-212.5 \"/>\n<text text-anchor=\"middle\" x=\"117\" y=\"-197.3\" font-family=\"Times,serif\" font-size=\"14.00\">input:</text>\n<polyline fill=\"none\" stroke=\"black\" points=\"89.5,-189.5 144.5,-189.5 \"/>\n<text text-anchor=\"middle\" x=\"117\" y=\"-174.3\" font-family=\"Times,serif\" font-size=\"14.00\">output:</text>\n<polyline fill=\"none\" stroke=\"black\" points=\"144.5,-166.5 144.5,-212.5 \"/>\n<text text-anchor=\"middle\" x=\"182.5\" y=\"-197.3\" font-family=\"Times,serif\" font-size=\"14.00\">(None, 16)</text>\n<polyline fill=\"none\" stroke=\"black\" points=\"144.5,-189.5 220.5,-189.5 \"/>\n<text text-anchor=\"middle\" x=\"182.5\" y=\"-174.3\" font-family=\"Times,serif\" font-size=\"14.00\">(None, 16)</text>\n</g>\n<!-- 139713856311152&#45;&gt;139713856148720 -->\n<g id=\"edge3\" class=\"edge\">\n<title>139713856311152-&gt;139713856148720</title>\n<path fill=\"none\" stroke=\"black\" d=\"M121,-249.37C121,-241.15 121,-231.66 121,-222.73\"/>\n<polygon fill=\"black\" stroke=\"black\" points=\"124.5,-222.61 121,-212.61 117.5,-222.61 124.5,-222.61\"/>\n</g>\n<!-- 139713856149824 -->\n<g id=\"node5\" class=\"node\">\n<title>139713856149824</title>\n<polygon fill=\"none\" stroke=\"black\" points=\"19.5,-83.5 19.5,-129.5 222.5,-129.5 222.5,-83.5 19.5,-83.5\"/>\n<text text-anchor=\"middle\" x=\"55.5\" y=\"-114.3\" font-family=\"Times,serif\" font-size=\"14.00\">dropout_5</text>\n<polyline fill=\"none\" stroke=\"black\" points=\"19.5,-106.5 91.5,-106.5 \"/>\n<text text-anchor=\"middle\" x=\"55.5\" y=\"-91.3\" font-family=\"Times,serif\" font-size=\"14.00\">Dropout</text>\n<polyline fill=\"none\" stroke=\"black\" points=\"91.5,-83.5 91.5,-129.5 \"/>\n<text text-anchor=\"middle\" x=\"119\" y=\"-114.3\" font-family=\"Times,serif\" font-size=\"14.00\">input:</text>\n<polyline fill=\"none\" stroke=\"black\" points=\"91.5,-106.5 146.5,-106.5 \"/>\n<text text-anchor=\"middle\" x=\"119\" y=\"-91.3\" font-family=\"Times,serif\" font-size=\"14.00\">output:</text>\n<polyline fill=\"none\" stroke=\"black\" points=\"146.5,-83.5 146.5,-129.5 \"/>\n<text text-anchor=\"middle\" x=\"184.5\" y=\"-114.3\" font-family=\"Times,serif\" font-size=\"14.00\">(None, 16)</text>\n<polyline fill=\"none\" stroke=\"black\" points=\"146.5,-106.5 222.5,-106.5 \"/>\n<text text-anchor=\"middle\" x=\"184.5\" y=\"-91.3\" font-family=\"Times,serif\" font-size=\"14.00\">(None, 16)</text>\n</g>\n<!-- 139713856148720&#45;&gt;139713856149824 -->\n<g id=\"edge4\" class=\"edge\">\n<title>139713856148720-&gt;139713856149824</title>\n<path fill=\"none\" stroke=\"black\" d=\"M121,-166.37C121,-158.15 121,-148.66 121,-139.73\"/>\n<polygon fill=\"black\" stroke=\"black\" points=\"124.5,-139.61 121,-129.61 117.5,-139.61 124.5,-139.61\"/>\n</g>\n<!-- 139713856148240 -->\n<g id=\"node6\" class=\"node\">\n<title>139713856148240</title>\n<polygon fill=\"none\" stroke=\"black\" points=\"21.5,-0.5 21.5,-46.5 220.5,-46.5 220.5,-0.5 21.5,-0.5\"/>\n<text text-anchor=\"middle\" x=\"55.5\" y=\"-31.3\" font-family=\"Times,serif\" font-size=\"14.00\">dense_30</text>\n<polyline fill=\"none\" stroke=\"black\" points=\"21.5,-23.5 89.5,-23.5 \"/>\n<text text-anchor=\"middle\" x=\"55.5\" y=\"-8.3\" font-family=\"Times,serif\" font-size=\"14.00\">Dense</text>\n<polyline fill=\"none\" stroke=\"black\" points=\"89.5,-0.5 89.5,-46.5 \"/>\n<text text-anchor=\"middle\" x=\"117\" y=\"-31.3\" font-family=\"Times,serif\" font-size=\"14.00\">input:</text>\n<polyline fill=\"none\" stroke=\"black\" points=\"89.5,-23.5 144.5,-23.5 \"/>\n<text text-anchor=\"middle\" x=\"117\" y=\"-8.3\" font-family=\"Times,serif\" font-size=\"14.00\">output:</text>\n<polyline fill=\"none\" stroke=\"black\" points=\"144.5,-0.5 144.5,-46.5 \"/>\n<text text-anchor=\"middle\" x=\"182.5\" y=\"-31.3\" font-family=\"Times,serif\" font-size=\"14.00\">(None, 16)</text>\n<polyline fill=\"none\" stroke=\"black\" points=\"144.5,-23.5 220.5,-23.5 \"/>\n<text text-anchor=\"middle\" x=\"182.5\" y=\"-8.3\" font-family=\"Times,serif\" font-size=\"14.00\">(None, 1)</text>\n</g>\n<!-- 139713856149824&#45;&gt;139713856148240 -->\n<g id=\"edge5\" class=\"edge\">\n<title>139713856149824-&gt;139713856148240</title>\n<path fill=\"none\" stroke=\"black\" d=\"M121,-83.37C121,-75.15 121,-65.66 121,-56.73\"/>\n<polygon fill=\"black\" stroke=\"black\" points=\"124.5,-56.61 121,-46.61 117.5,-56.61 124.5,-56.61\"/>\n</g>\n</g>\n</svg>"
          },
          "metadata": {},
          "execution_count": 153
        }
      ]
    }
  ]
}